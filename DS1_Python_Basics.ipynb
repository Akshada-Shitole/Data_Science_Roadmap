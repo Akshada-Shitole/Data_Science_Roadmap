{
  "nbformat": 4,
  "nbformat_minor": 0,
  "metadata": {
    "colab": {
      "name": "DS1_Python_Basics.ipynb",
      "provenance": [],
      "collapsed_sections": []
    },
    "kernelspec": {
      "name": "python3",
      "display_name": "Python 3"
    },
    "language_info": {
      "name": "python"
    }
  },
  "cells": [
    {
      "cell_type": "markdown",
      "metadata": {
        "id": "QsxisVFbDDYx"
      },
      "source": [
        "DATA SCIENCE ROADMAP\n",
        "STEP 1: PYTHON BASICS PROGRAMMING"
      ]
    },
    {
      "cell_type": "code",
      "metadata": {
        "colab": {
          "base_uri": "https://localhost:8080/"
        },
        "id": "LVcsTM1sDkdV",
        "outputId": "ca2bf380-8a67-431b-dd83-f57dcfa51a29"
      },
      "source": [
        "print(\"Data Science\")"
      ],
      "execution_count": 1,
      "outputs": [
        {
          "output_type": "stream",
          "text": [
            "Data Science\n"
          ],
          "name": "stdout"
        }
      ]
    },
    {
      "cell_type": "code",
      "metadata": {
        "colab": {
          "base_uri": "https://localhost:8080/"
        },
        "id": "mtD6MxoqDyM4",
        "outputId": "bd6f6569-24b2-47aa-cfe2-70151a90603b"
      },
      "source": [
        "2+3"
      ],
      "execution_count": 2,
      "outputs": [
        {
          "output_type": "execute_result",
          "data": {
            "text/plain": [
              "5"
            ]
          },
          "metadata": {
            "tags": []
          },
          "execution_count": 2
        }
      ]
    },
    {
      "cell_type": "code",
      "metadata": {
        "colab": {
          "base_uri": "https://localhost:8080/"
        },
        "id": "Yvs-1HrVE7sR",
        "outputId": "a59e19fe-000f-43a7-b464-c6f4b0157d6b"
      },
      "source": [
        "10*55"
      ],
      "execution_count": 3,
      "outputs": [
        {
          "output_type": "execute_result",
          "data": {
            "text/plain": [
              "550"
            ]
          },
          "metadata": {
            "tags": []
          },
          "execution_count": 3
        }
      ]
    },
    {
      "cell_type": "code",
      "metadata": {
        "colab": {
          "base_uri": "https://localhost:8080/"
        },
        "id": "3KzlUuqbFAIA",
        "outputId": "091a2fa0-e06f-4ec1-c9e6-8b00bf682e96"
      },
      "source": [
        "\"\"\"\n",
        "Variables in python. \n",
        "\n",
        "Variables are the containers used to store some data.\n",
        "\n",
        "\"\"\"\n",
        "\n",
        "a=1220\n",
        "b=2\n",
        "c=3\n",
        "print(a)\n",
        "print(b)\n",
        "print(c)"
      ],
      "execution_count": 4,
      "outputs": [
        {
          "output_type": "stream",
          "text": [
            "1220\n",
            "2\n",
            "3\n"
          ],
          "name": "stdout"
        }
      ]
    },
    {
      "cell_type": "code",
      "metadata": {
        "colab": {
          "base_uri": "https://localhost:8080/"
        },
        "id": "5pLtZt4TF4QW",
        "outputId": "8b5d7123-dc57-4b64-c552-2582e1d9bf09"
      },
      "source": [
        "# to calculate time we have distance and speed\n",
        "dist=1115055\n",
        "speed=20011\n",
        "time=dist/speed\n",
        "print(time)\n"
      ],
      "execution_count": 5,
      "outputs": [
        {
          "output_type": "stream",
          "text": [
            "55.72210284343611\n"
          ],
          "name": "stdout"
        }
      ]
    },
    {
      "cell_type": "code",
      "metadata": {
        "colab": {
          "base_uri": "https://localhost:8080/"
        },
        "id": "mSAS6n63HFAR",
        "outputId": "56df646d-5a4e-43b6-c94f-3cd67d15b2b9"
      },
      "source": [
        "# if u want answer with 3 decimals use round function\n",
        "round(time,3)"
      ],
      "execution_count": 6,
      "outputs": [
        {
          "output_type": "execute_result",
          "data": {
            "text/plain": [
              "55.722"
            ]
          },
          "metadata": {
            "tags": []
          },
          "execution_count": 6
        }
      ]
    },
    {
      "cell_type": "code",
      "metadata": {
        "colab": {
          "base_uri": "https://localhost:8080/",
          "height": 35
        },
        "id": "zv_F5JlAHWFy",
        "outputId": "0d7f24ce-1ca7-4da8-dfd8-b3df1c3cb5d1"
      },
      "source": [
        "# String is a sequence of characters...the python stores this string sequence of characters at different memory addresses like I at 0, C at 1, E at 2\n",
        "\n",
        "data=\"ICE CAKE\"\n",
        "data"
      ],
      "execution_count": 7,
      "outputs": [
        {
          "output_type": "execute_result",
          "data": {
            "application/vnd.google.colaboratory.intrinsic+json": {
              "type": "string"
            },
            "text/plain": [
              "'ICE CAKE'"
            ]
          },
          "metadata": {
            "tags": []
          },
          "execution_count": 7
        }
      ]
    },
    {
      "cell_type": "code",
      "metadata": {
        "colab": {
          "base_uri": "https://localhost:8080/",
          "height": 35
        },
        "id": "eyqe_AgRInPS",
        "outputId": "d39e045d-9afa-43ea-e3d1-15aafa872e8c"
      },
      "source": [
        "data[4]"
      ],
      "execution_count": 8,
      "outputs": [
        {
          "output_type": "execute_result",
          "data": {
            "application/vnd.google.colaboratory.intrinsic+json": {
              "type": "string"
            },
            "text/plain": [
              "'C'"
            ]
          },
          "metadata": {
            "tags": []
          },
          "execution_count": 8
        }
      ]
    },
    {
      "cell_type": "code",
      "metadata": {
        "colab": {
          "base_uri": "https://localhost:8080/",
          "height": 35
        },
        "id": "_GxbmNNCIwFT",
        "outputId": "9b748964-de06-4459-dbce-b60ab8561312"
      },
      "source": [
        "# string is immutable. we cannot change specific character of a string.\n",
        "# to print subset of string\n",
        "data[0:5]"
      ],
      "execution_count": 9,
      "outputs": [
        {
          "output_type": "execute_result",
          "data": {
            "application/vnd.google.colaboratory.intrinsic+json": {
              "type": "string"
            },
            "text/plain": [
              "'ICE C'"
            ]
          },
          "metadata": {
            "tags": []
          },
          "execution_count": 9
        }
      ]
    },
    {
      "cell_type": "code",
      "metadata": {
        "colab": {
          "base_uri": "https://localhost:8080/",
          "height": 35
        },
        "id": "Cgnh9bJJJK4q",
        "outputId": "1355a07c-3c6c-45de-ba71-1f8b89fa267e"
      },
      "source": [
        "data[1:]"
      ],
      "execution_count": 10,
      "outputs": [
        {
          "output_type": "execute_result",
          "data": {
            "application/vnd.google.colaboratory.intrinsic+json": {
              "type": "string"
            },
            "text/plain": [
              "'CE CAKE'"
            ]
          },
          "metadata": {
            "tags": []
          },
          "execution_count": 10
        }
      ]
    },
    {
      "cell_type": "code",
      "metadata": {
        "colab": {
          "base_uri": "https://localhost:8080/",
          "height": 35
        },
        "id": "voVEY16rJQVI",
        "outputId": "6aa51e28-9929-4597-9132-e62ef5c56531"
      },
      "source": [
        "data[:5]"
      ],
      "execution_count": 11,
      "outputs": [
        {
          "output_type": "execute_result",
          "data": {
            "application/vnd.google.colaboratory.intrinsic+json": {
              "type": "string"
            },
            "text/plain": [
              "'ICE C'"
            ]
          },
          "metadata": {
            "tags": []
          },
          "execution_count": 11
        }
      ]
    },
    {
      "cell_type": "code",
      "metadata": {
        "colab": {
          "base_uri": "https://localhost:8080/",
          "height": 35
        },
        "id": "K6tpqDZUJXQF",
        "outputId": "d841efad-abee-4d49-e7d1-d3b86b89b3c7"
      },
      "source": [
        "text=\"let\\'s learn python\"\n",
        "text"
      ],
      "execution_count": 12,
      "outputs": [
        {
          "output_type": "execute_result",
          "data": {
            "application/vnd.google.colaboratory.intrinsic+json": {
              "type": "string"
            },
            "text/plain": [
              "\"let's learn python\""
            ]
          },
          "metadata": {
            "tags": []
          },
          "execution_count": 12
        }
      ]
    },
    {
      "cell_type": "code",
      "metadata": {
        "colab": {
          "base_uri": "https://localhost:8080/",
          "height": 35
        },
        "id": "2fs-Fw0vJqfb",
        "outputId": "3456a9e3-23bf-4578-9025-36ef447f01e0"
      },
      "source": [
        "address='''nashik\n",
        "pune\n",
        "mumbai'''\n",
        "address"
      ],
      "execution_count": 13,
      "outputs": [
        {
          "output_type": "execute_result",
          "data": {
            "application/vnd.google.colaboratory.intrinsic+json": {
              "type": "string"
            },
            "text/plain": [
              "'nashik\\npune\\nmumbai'"
            ]
          },
          "metadata": {
            "tags": []
          },
          "execution_count": 13
        }
      ]
    },
    {
      "cell_type": "code",
      "metadata": {
        "colab": {
          "base_uri": "https://localhost:8080/"
        },
        "id": "lvfwdHNEKBy7",
        "outputId": "8ab6d1a6-794d-41ac-dba2-fac37a64d095"
      },
      "source": [
        "#List in python\n",
        "#list is mutable\n",
        "\n",
        "items=[\"a\",\"b\",\"c\",\"d\",\"e\"]\n",
        "items\n"
      ],
      "execution_count": 14,
      "outputs": [
        {
          "output_type": "execute_result",
          "data": {
            "text/plain": [
              "['a', 'b', 'c', 'd', 'e']"
            ]
          },
          "metadata": {
            "tags": []
          },
          "execution_count": 14
        }
      ]
    },
    {
      "cell_type": "code",
      "metadata": {
        "colab": {
          "base_uri": "https://localhost:8080/"
        },
        "id": "NKzZAJ1_K8lN",
        "outputId": "19c58d68-a453-4714-c7da-f6d1a1de6d79"
      },
      "source": [
        "items[0]=\"w\";\n",
        "items"
      ],
      "execution_count": 15,
      "outputs": [
        {
          "output_type": "execute_result",
          "data": {
            "text/plain": [
              "['w', 'b', 'c', 'd', 'e']"
            ]
          },
          "metadata": {
            "tags": []
          },
          "execution_count": 15
        }
      ]
    },
    {
      "cell_type": "code",
      "metadata": {
        "colab": {
          "base_uri": "https://localhost:8080/"
        },
        "id": "VAonw41MLFuV",
        "outputId": "d37872f0-3357-40f5-a0e5-7e687ae1a9c3"
      },
      "source": [
        "a=items[1:4]\n",
        "a"
      ],
      "execution_count": 16,
      "outputs": [
        {
          "output_type": "execute_result",
          "data": {
            "text/plain": [
              "['b', 'c', 'd']"
            ]
          },
          "metadata": {
            "tags": []
          },
          "execution_count": 16
        }
      ]
    },
    {
      "cell_type": "code",
      "metadata": {
        "colab": {
          "base_uri": "https://localhost:8080/",
          "height": 35
        },
        "id": "WOfoVGm9Ld_o",
        "outputId": "cecefbef-4c28-47f3-ea00-d7161efd0c3f"
      },
      "source": [
        "items[-1]"
      ],
      "execution_count": 17,
      "outputs": [
        {
          "output_type": "execute_result",
          "data": {
            "application/vnd.google.colaboratory.intrinsic+json": {
              "type": "string"
            },
            "text/plain": [
              "'e'"
            ]
          },
          "metadata": {
            "tags": []
          },
          "execution_count": 17
        }
      ]
    },
    {
      "cell_type": "code",
      "metadata": {
        "id": "M1ArGPUZLjTP"
      },
      "source": [
        "items.append(\"f\")"
      ],
      "execution_count": 18,
      "outputs": []
    },
    {
      "cell_type": "code",
      "metadata": {
        "colab": {
          "base_uri": "https://localhost:8080/"
        },
        "id": "T7mvqj7RLqEH",
        "outputId": "62f2e46e-87db-4849-e1a1-70359ad6c260"
      },
      "source": [
        "items"
      ],
      "execution_count": 19,
      "outputs": [
        {
          "output_type": "execute_result",
          "data": {
            "text/plain": [
              "['w', 'b', 'c', 'd', 'e', 'f']"
            ]
          },
          "metadata": {
            "tags": []
          },
          "execution_count": 19
        }
      ]
    },
    {
      "cell_type": "code",
      "metadata": {
        "id": "arkbsv3HLt-P"
      },
      "source": [
        "items.insert(2,\"u\")"
      ],
      "execution_count": 20,
      "outputs": []
    },
    {
      "cell_type": "code",
      "metadata": {
        "colab": {
          "base_uri": "https://localhost:8080/"
        },
        "id": "VFIltyybL-6o",
        "outputId": "cb66ef5b-1f6c-4b48-92e1-2cc7c2ddc1df"
      },
      "source": [
        "items"
      ],
      "execution_count": 21,
      "outputs": [
        {
          "output_type": "execute_result",
          "data": {
            "text/plain": [
              "['w', 'b', 'u', 'c', 'd', 'e', 'f']"
            ]
          },
          "metadata": {
            "tags": []
          },
          "execution_count": 21
        }
      ]
    },
    {
      "cell_type": "code",
      "metadata": {
        "colab": {
          "base_uri": "https://localhost:8080/"
        },
        "id": "-sakc3TsMA_f",
        "outputId": "b728a44f-4988-416a-c40c-c153bf2616e0"
      },
      "source": [
        "items1=[\"1\",\"2\",\"3\"]\n",
        "items1"
      ],
      "execution_count": 22,
      "outputs": [
        {
          "output_type": "execute_result",
          "data": {
            "text/plain": [
              "['1', '2', '3']"
            ]
          },
          "metadata": {
            "tags": []
          },
          "execution_count": 22
        }
      ]
    },
    {
      "cell_type": "code",
      "metadata": {
        "colab": {
          "base_uri": "https://localhost:8080/"
        },
        "id": "bXpcg-PfMLzF",
        "outputId": "09ae309c-481f-4009-9509-7c5ec6772df0"
      },
      "source": [
        "combolist=items+items1\n",
        "combolist"
      ],
      "execution_count": 23,
      "outputs": [
        {
          "output_type": "execute_result",
          "data": {
            "text/plain": [
              "['w', 'b', 'u', 'c', 'd', 'e', 'f', '1', '2', '3']"
            ]
          },
          "metadata": {
            "tags": []
          },
          "execution_count": 23
        }
      ]
    },
    {
      "cell_type": "code",
      "metadata": {
        "colab": {
          "base_uri": "https://localhost:8080/"
        },
        "id": "AXffNYSgMSSt",
        "outputId": "181539d9-1e22-4977-8413-3f91f73d6b81"
      },
      "source": [
        "len(combolist)"
      ],
      "execution_count": 24,
      "outputs": [
        {
          "output_type": "execute_result",
          "data": {
            "text/plain": [
              "10"
            ]
          },
          "metadata": {
            "tags": []
          },
          "execution_count": 24
        }
      ]
    },
    {
      "cell_type": "code",
      "metadata": {
        "colab": {
          "base_uri": "https://localhost:8080/"
        },
        "id": "TnlFamvPMlQe",
        "outputId": "69efd75b-4df2-4f9a-d6e7-4ce0e1e66c29"
      },
      "source": [
        "\"u\" in combolist"
      ],
      "execution_count": 25,
      "outputs": [
        {
          "output_type": "execute_result",
          "data": {
            "text/plain": [
              "True"
            ]
          },
          "metadata": {
            "tags": []
          },
          "execution_count": 25
        }
      ]
    },
    {
      "cell_type": "code",
      "metadata": {
        "colab": {
          "base_uri": "https://localhost:8080/"
        },
        "id": "M5uFqtrVM6jQ",
        "outputId": "40496dab-5f6a-4eeb-990b-d8689b2a076e"
      },
      "source": [
        "\"o\" in combolist"
      ],
      "execution_count": 26,
      "outputs": [
        {
          "output_type": "execute_result",
          "data": {
            "text/plain": [
              "False"
            ]
          },
          "metadata": {
            "tags": []
          },
          "execution_count": 26
        }
      ]
    },
    {
      "cell_type": "code",
      "metadata": {
        "colab": {
          "base_uri": "https://localhost:8080/"
        },
        "id": "P5oa6-B3NDd8",
        "outputId": "a51a0761-9ab0-44e0-9a0f-b4f691a5559c"
      },
      "source": [
        "#tuple\n",
        "#tuple is immutable\n",
        "\n",
        "tup=(\"1\",\"5\",\"8\",\"4\")\n",
        "tup"
      ],
      "execution_count": 27,
      "outputs": [
        {
          "output_type": "execute_result",
          "data": {
            "text/plain": [
              "('1', '5', '8', '4')"
            ]
          },
          "metadata": {
            "tags": []
          },
          "execution_count": 27
        }
      ]
    },
    {
      "cell_type": "code",
      "metadata": {
        "colab": {
          "base_uri": "https://localhost:8080/",
          "height": 35
        },
        "id": "jRrSUlLrZBc9",
        "outputId": "df8cad95-b85d-46b2-872e-f59f7d22c0f7"
      },
      "source": [
        "tup[1]"
      ],
      "execution_count": 28,
      "outputs": [
        {
          "output_type": "execute_result",
          "data": {
            "application/vnd.google.colaboratory.intrinsic+json": {
              "type": "string"
            },
            "text/plain": [
              "'5'"
            ]
          },
          "metadata": {
            "tags": []
          },
          "execution_count": 28
        }
      ]
    },
    {
      "cell_type": "code",
      "metadata": {
        "colab": {
          "base_uri": "https://localhost:8080/"
        },
        "id": "aWRzZAtmO41_",
        "outputId": "6b87ef31-562d-4264-89c4-52855ee6b678"
      },
      "source": [
        "# Control Statements in python.\n",
        "\n",
        "num= input(\"Enter the number\")\n",
        "numb=int(num)\n",
        "if numb%2==0:\n",
        "  print(\"even\")\n",
        "else:\n",
        "  print(\"odd\")"
      ],
      "execution_count": 29,
      "outputs": [
        {
          "output_type": "stream",
          "text": [
            "Enter the number0\n",
            "even\n"
          ],
          "name": "stdout"
        }
      ]
    },
    {
      "cell_type": "code",
      "metadata": {
        "id": "SrEkyv4IZROv"
      },
      "source": [
        ""
      ],
      "execution_count": 29,
      "outputs": []
    },
    {
      "cell_type": "code",
      "metadata": {
        "colab": {
          "base_uri": "https://localhost:8080/"
        },
        "id": "0LQCE9U3P_Zx",
        "outputId": "79232019-3e85-43b9-90b2-04c19068c36e"
      },
      "source": [
        "indian=[\"samosa\",\"sandwitch\",\"dal\"]\n",
        "chinese=[\"noodles\",\"schezwan\",\"manchurian\"]\n",
        "italian=[\"pizza\",\"pasta\",\"risotto\"]\n",
        "\n",
        "dish=input(\"enter a dish name\")\n",
        "\n",
        "if dish in indian:\n",
        "  print(\"Indian\")\n",
        "elif dish in chinese:\n",
        "  print(\"chinese\")\n",
        "elif dish in italian:\n",
        "  print(\"italian\")\n",
        "else:\n",
        "  print(\"another one\")\n",
        "  "
      ],
      "execution_count": 30,
      "outputs": [
        {
          "output_type": "stream",
          "text": [
            "enter a dish namedal\n",
            "Indian\n"
          ],
          "name": "stdout"
        }
      ]
    },
    {
      "cell_type": "code",
      "metadata": {
        "colab": {
          "base_uri": "https://localhost:8080/"
        },
        "id": "8Yg6jGciRa4x",
        "outputId": "626135e5-0025-40b4-9665-bcd29aa2cbd3"
      },
      "source": [
        "# for loop\n",
        "exp=[102,22,52,22,41,80]\n",
        "total=0\n",
        "\n",
        "for i in exp:\n",
        "  total=total+i;\n",
        "print(total)"
      ],
      "execution_count": 31,
      "outputs": [
        {
          "output_type": "stream",
          "text": [
            "319\n"
          ],
          "name": "stdout"
        }
      ]
    },
    {
      "cell_type": "code",
      "metadata": {
        "colab": {
          "base_uri": "https://localhost:8080/"
        },
        "id": "AILsTG-1SOMG",
        "outputId": "b249ffce-1791-4f21-890f-94b8abd1d184"
      },
      "source": [
        "for i in range(1,11):\n",
        "  print(i)"
      ],
      "execution_count": 32,
      "outputs": [
        {
          "output_type": "stream",
          "text": [
            "1\n",
            "2\n",
            "3\n",
            "4\n",
            "5\n",
            "6\n",
            "7\n",
            "8\n",
            "9\n",
            "10\n"
          ],
          "name": "stdout"
        }
      ]
    },
    {
      "cell_type": "code",
      "metadata": {
        "colab": {
          "base_uri": "https://localhost:8080/"
        },
        "id": "uGYGaIkKUJTr",
        "outputId": "b9a78c84-4a46-495d-9e86-15f957392024"
      },
      "source": [
        "# Functions\n",
        "# function make code code modular and reusable\n",
        "def fun():\n",
        "  print(\"hi\")\n",
        "fun()\n",
        "fun()"
      ],
      "execution_count": 33,
      "outputs": [
        {
          "output_type": "stream",
          "text": [
            "hi\n",
            "hi\n"
          ],
          "name": "stdout"
        }
      ]
    },
    {
      "cell_type": "code",
      "metadata": {
        "colab": {
          "base_uri": "https://localhost:8080/"
        },
        "id": "sQT6ExJ2Uqsx",
        "outputId": "51a2dbb7-80f9-400f-f15d-73de61b695a5"
      },
      "source": [
        "#dictionary or maps or associative arrays...\n",
        "\n",
        "d={\"a\":123,\"b\":555,\"c\":5557}\n",
        "d"
      ],
      "execution_count": 34,
      "outputs": [
        {
          "output_type": "execute_result",
          "data": {
            "text/plain": [
              "{'a': 123, 'b': 555, 'c': 5557}"
            ]
          },
          "metadata": {
            "tags": []
          },
          "execution_count": 34
        }
      ]
    },
    {
      "cell_type": "code",
      "metadata": {
        "colab": {
          "base_uri": "https://localhost:8080/"
        },
        "id": "Frj0eUfcX-sH",
        "outputId": "fc151293-eb6c-4414-9bc3-262f7f3a2089"
      },
      "source": [
        "d[\"b\"]"
      ],
      "execution_count": 35,
      "outputs": [
        {
          "output_type": "execute_result",
          "data": {
            "text/plain": [
              "555"
            ]
          },
          "metadata": {
            "tags": []
          },
          "execution_count": 35
        }
      ]
    },
    {
      "cell_type": "code",
      "metadata": {
        "id": "2w1w_h-MYFHn"
      },
      "source": [
        "d[\"y\"]=444"
      ],
      "execution_count": 36,
      "outputs": []
    },
    {
      "cell_type": "code",
      "metadata": {
        "colab": {
          "base_uri": "https://localhost:8080/"
        },
        "id": "d6KqPpy4YIbz",
        "outputId": "3f7077f6-d45b-4e18-e5d9-d5072d661ddd"
      },
      "source": [
        "d"
      ],
      "execution_count": 37,
      "outputs": [
        {
          "output_type": "execute_result",
          "data": {
            "text/plain": [
              "{'a': 123, 'b': 555, 'c': 5557, 'y': 444}"
            ]
          },
          "metadata": {
            "tags": []
          },
          "execution_count": 37
        }
      ]
    },
    {
      "cell_type": "code",
      "metadata": {
        "colab": {
          "base_uri": "https://localhost:8080/"
        },
        "id": "t-aeReu2YJQT",
        "outputId": "be06d012-346a-41bc-e8a4-988775643f1b"
      },
      "source": [
        "for key in d:\n",
        "  print(\"key::\",key,\"value::\",d[key])"
      ],
      "execution_count": 38,
      "outputs": [
        {
          "output_type": "stream",
          "text": [
            "key:: a value:: 123\n",
            "key:: b value:: 555\n",
            "key:: c value:: 5557\n",
            "key:: y value:: 444\n"
          ],
          "name": "stdout"
        }
      ]
    },
    {
      "cell_type": "code",
      "metadata": {
        "colab": {
          "base_uri": "https://localhost:8080/"
        },
        "id": "q1PL5ZVkYlQJ",
        "outputId": "e60c1558-c343-4728-ee8a-ae4efc835cf8"
      },
      "source": [
        "\"b\" in d"
      ],
      "execution_count": 39,
      "outputs": [
        {
          "output_type": "execute_result",
          "data": {
            "text/plain": [
              "True"
            ]
          },
          "metadata": {
            "tags": []
          },
          "execution_count": 39
        }
      ]
    },
    {
      "cell_type": "code",
      "metadata": {
        "id": "uyk7HgV-Y4RP"
      },
      "source": [
        "#to remove all\n",
        "d.clear()"
      ],
      "execution_count": 40,
      "outputs": []
    },
    {
      "cell_type": "code",
      "metadata": {
        "colab": {
          "base_uri": "https://localhost:8080/"
        },
        "id": "QMS-d6nFajf3",
        "outputId": "fc4dba0e-e832-45a4-ee9d-e3087b6c5630"
      },
      "source": [
        "import math\n",
        "math.sqrt(16)"
      ],
      "execution_count": 41,
      "outputs": [
        {
          "output_type": "execute_result",
          "data": {
            "text/plain": [
              "4.0"
            ]
          },
          "metadata": {
            "tags": []
          },
          "execution_count": 41
        }
      ]
    },
    {
      "cell_type": "code",
      "metadata": {
        "colab": {
          "base_uri": "https://localhost:8080/"
        },
        "id": "zhmT0Rq3a2R9",
        "outputId": "695b9d7f-cf0a-41fe-fdaf-9b945a53ebf6"
      },
      "source": [
        "math.pow(2,5)"
      ],
      "execution_count": 42,
      "outputs": [
        {
          "output_type": "execute_result",
          "data": {
            "text/plain": [
              "32.0"
            ]
          },
          "metadata": {
            "tags": []
          },
          "execution_count": 42
        }
      ]
    },
    {
      "cell_type": "code",
      "metadata": {
        "colab": {
          "base_uri": "https://localhost:8080/"
        },
        "id": "n00kPG_8a5qu",
        "outputId": "e9b04e1b-18ba-43a5-ec88-85a30dd787a6"
      },
      "source": [
        "dir(math)"
      ],
      "execution_count": 43,
      "outputs": [
        {
          "output_type": "execute_result",
          "data": {
            "text/plain": [
              "['__doc__',\n",
              " '__loader__',\n",
              " '__name__',\n",
              " '__package__',\n",
              " '__spec__',\n",
              " 'acos',\n",
              " 'acosh',\n",
              " 'asin',\n",
              " 'asinh',\n",
              " 'atan',\n",
              " 'atan2',\n",
              " 'atanh',\n",
              " 'ceil',\n",
              " 'copysign',\n",
              " 'cos',\n",
              " 'cosh',\n",
              " 'degrees',\n",
              " 'e',\n",
              " 'erf',\n",
              " 'erfc',\n",
              " 'exp',\n",
              " 'expm1',\n",
              " 'fabs',\n",
              " 'factorial',\n",
              " 'floor',\n",
              " 'fmod',\n",
              " 'frexp',\n",
              " 'fsum',\n",
              " 'gamma',\n",
              " 'gcd',\n",
              " 'hypot',\n",
              " 'inf',\n",
              " 'isclose',\n",
              " 'isfinite',\n",
              " 'isinf',\n",
              " 'isnan',\n",
              " 'ldexp',\n",
              " 'lgamma',\n",
              " 'log',\n",
              " 'log10',\n",
              " 'log1p',\n",
              " 'log2',\n",
              " 'modf',\n",
              " 'nan',\n",
              " 'pi',\n",
              " 'pow',\n",
              " 'radians',\n",
              " 'remainder',\n",
              " 'sin',\n",
              " 'sinh',\n",
              " 'sqrt',\n",
              " 'tan',\n",
              " 'tanh',\n",
              " 'tau',\n",
              " 'trunc']"
            ]
          },
          "metadata": {
            "tags": []
          },
          "execution_count": 43
        }
      ]
    },
    {
      "cell_type": "code",
      "metadata": {
        "colab": {
          "base_uri": "https://localhost:8080/",
          "height": 35
        },
        "id": "4Pb8BjRka9vi",
        "outputId": "f6a0d812-444f-4a23-d9bb-6798e2f7d902"
      },
      "source": [
        "import calendar\n",
        "cal=calendar.month(2016,2)\n",
        "cal"
      ],
      "execution_count": 44,
      "outputs": [
        {
          "output_type": "execute_result",
          "data": {
            "application/vnd.google.colaboratory.intrinsic+json": {
              "type": "string"
            },
            "text/plain": [
              "'   February 2016\\nMo Tu We Th Fr Sa Su\\n 1  2  3  4  5  6  7\\n 8  9 10 11 12 13 14\\n15 16 17 18 19 20 21\\n22 23 24 25 26 27 28\\n29\\n'"
            ]
          },
          "metadata": {
            "tags": []
          },
          "execution_count": 44
        }
      ]
    },
    {
      "cell_type": "code",
      "metadata": {
        "colab": {
          "base_uri": "https://localhost:8080/"
        },
        "id": "gkIg4-YObXSv",
        "outputId": "44f3a030-9c35-4605-c2ff-59526089f37f"
      },
      "source": [
        "dir(calendar)"
      ],
      "execution_count": 45,
      "outputs": [
        {
          "output_type": "execute_result",
          "data": {
            "text/plain": [
              "['Calendar',\n",
              " 'EPOCH',\n",
              " 'FRIDAY',\n",
              " 'February',\n",
              " 'HTMLCalendar',\n",
              " 'IllegalMonthError',\n",
              " 'IllegalWeekdayError',\n",
              " 'January',\n",
              " 'LocaleHTMLCalendar',\n",
              " 'LocaleTextCalendar',\n",
              " 'MONDAY',\n",
              " 'SATURDAY',\n",
              " 'SUNDAY',\n",
              " 'THURSDAY',\n",
              " 'TUESDAY',\n",
              " 'TextCalendar',\n",
              " 'WEDNESDAY',\n",
              " '_EPOCH_ORD',\n",
              " '__all__',\n",
              " '__builtins__',\n",
              " '__cached__',\n",
              " '__doc__',\n",
              " '__file__',\n",
              " '__loader__',\n",
              " '__name__',\n",
              " '__package__',\n",
              " '__spec__',\n",
              " '_colwidth',\n",
              " '_locale',\n",
              " '_localized_day',\n",
              " '_localized_month',\n",
              " '_spacing',\n",
              " 'c',\n",
              " 'calendar',\n",
              " 'datetime',\n",
              " 'day_abbr',\n",
              " 'day_name',\n",
              " 'different_locale',\n",
              " 'error',\n",
              " 'firstweekday',\n",
              " 'format',\n",
              " 'formatstring',\n",
              " 'isleap',\n",
              " 'leapdays',\n",
              " 'main',\n",
              " 'mdays',\n",
              " 'month',\n",
              " 'month_abbr',\n",
              " 'month_name',\n",
              " 'monthcalendar',\n",
              " 'monthlen',\n",
              " 'monthrange',\n",
              " 'nextmonth',\n",
              " 'prcal',\n",
              " 'prevmonth',\n",
              " 'prmonth',\n",
              " 'prweek',\n",
              " 'repeat',\n",
              " 'setfirstweekday',\n",
              " 'sys',\n",
              " 'timegm',\n",
              " 'week',\n",
              " 'weekday',\n",
              " 'weekheader']"
            ]
          },
          "metadata": {
            "tags": []
          },
          "execution_count": 45
        }
      ]
    },
    {
      "cell_type": "code",
      "metadata": {
        "id": "jgQwmY6SbbzS",
        "colab": {
          "base_uri": "https://localhost:8080/",
          "height": 52
        },
        "outputId": "0ed22a46-1779-400c-b5f6-79cb26219a43"
      },
      "source": [
        "# Create own module\n",
        "# step 1:make .py file\n",
        "# step 2:import it\n",
        "\n",
        "\"\"\"\n",
        "if the .py file is present in same working directory then no error\n",
        "if the .py file is present in module folder than write import module.abc as n\n",
        "if the .py file in present somewhere in c drive then write it as \n",
        "\n",
        "import sys\n",
        "sys.path.append(\"c:\\code\")\n",
        "import abc as a\n",
        "\"\"\""
      ],
      "execution_count": 46,
      "outputs": [
        {
          "output_type": "execute_result",
          "data": {
            "application/vnd.google.colaboratory.intrinsic+json": {
              "type": "string"
            },
            "text/plain": [
              "'\\nif the .py file is present in same working directory then no error\\nif the .py file is present in module folder than write import module.abc as n\\nif the .py file in present somewhere in c drive then write it as \\n\\nimport sys\\nsys.path.append(\"c:\\\\code\")\\nimport abc as a\\n'"
            ]
          },
          "metadata": {
            "tags": []
          },
          "execution_count": 46
        }
      ]
    },
    {
      "cell_type": "code",
      "metadata": {
        "colab": {
          "base_uri": "https://localhost:8080/"
        },
        "id": "PcSt5jocbxbF",
        "outputId": "eea5d7ee-6db4-4f84-e107-f3328d581d2b"
      },
      "source": [
        "# JSON is java script object notation. it is a data exchange format similar to XML or like dictionary. json is lightweight.\n",
        "\n",
        "# create json object\n",
        "book={}\n",
        "\n",
        "\n",
        "book['TOM']={\n",
        "    'name':'tom',\n",
        "    'address':'abccc',\n",
        "    'phone': '123'\n",
        "}\n",
        "\n",
        "book['BOM']={\n",
        "    'name':'bom',\n",
        "    'address':'abcccdd',\n",
        "    'phone':'123'\n",
        "}\n",
        "\n",
        "book['SOM']={\n",
        "    'name':'som',\n",
        "    'address':'abcccee',\n",
        "    'phone':'112'\n",
        "}\n",
        "\n",
        "import json\n",
        "s= json.dumps(book)\n",
        "print(s)"
      ],
      "execution_count": 47,
      "outputs": [
        {
          "output_type": "stream",
          "text": [
            "{\"TOM\": {\"name\": \"tom\", \"address\": \"abccc\", \"phone\": \"123\"}, \"BOM\": {\"name\": \"bom\", \"address\": \"abcccdd\", \"phone\": \"123\"}, \"SOM\": {\"name\": \"som\", \"address\": \"abcccee\", \"phone\": \"112\"}}\n"
          ],
          "name": "stdout"
        }
      ]
    },
    {
      "cell_type": "code",
      "metadata": {
        "id": "sLwBwejaeuKM"
      },
      "source": [
        "with open(\"book.txt\",\"w\") as f:\n",
        "  f.write(s)"
      ],
      "execution_count": 48,
      "outputs": []
    },
    {
      "cell_type": "code",
      "metadata": {
        "colab": {
          "base_uri": "https://localhost:8080/",
          "height": 52
        },
        "id": "HbAszZq0e8io",
        "outputId": "96e4d862-5b7e-42bf-be4a-a1203b0d9e05"
      },
      "source": [
        "f=open(\"book.txt\",\"r\")\n",
        "s=f.read()\n",
        "s"
      ],
      "execution_count": 49,
      "outputs": [
        {
          "output_type": "execute_result",
          "data": {
            "application/vnd.google.colaboratory.intrinsic+json": {
              "type": "string"
            },
            "text/plain": [
              "'{\"TOM\": {\"name\": \"tom\", \"address\": \"abccc\", \"phone\": \"123\"}, \"BOM\": {\"name\": \"bom\", \"address\": \"abcccdd\", \"phone\": \"123\"}, \"SOM\": {\"name\": \"som\", \"address\": \"abcccee\", \"phone\": \"112\"}}'"
            ]
          },
          "metadata": {
            "tags": []
          },
          "execution_count": 49
        }
      ]
    },
    {
      "cell_type": "code",
      "metadata": {
        "colab": {
          "base_uri": "https://localhost:8080/"
        },
        "id": "ODqaxHcgfSMX",
        "outputId": "b953206c-d195-4203-a477-d62a8f81ec57"
      },
      "source": [
        "book['TOM']"
      ],
      "execution_count": 50,
      "outputs": [
        {
          "output_type": "execute_result",
          "data": {
            "text/plain": [
              "{'address': 'abccc', 'name': 'tom', 'phone': '123'}"
            ]
          },
          "metadata": {
            "tags": []
          },
          "execution_count": 50
        }
      ]
    },
    {
      "cell_type": "code",
      "metadata": {
        "colab": {
          "base_uri": "https://localhost:8080/",
          "height": 35
        },
        "id": "s_DYU5Ecfin7",
        "outputId": "50a9ce55-54ed-4caa-b3fe-07bab718722f"
      },
      "source": [
        "book['TOM']['phone']"
      ],
      "execution_count": 51,
      "outputs": [
        {
          "output_type": "execute_result",
          "data": {
            "application/vnd.google.colaboratory.intrinsic+json": {
              "type": "string"
            },
            "text/plain": [
              "'123'"
            ]
          },
          "metadata": {
            "tags": []
          },
          "execution_count": 51
        }
      ]
    },
    {
      "cell_type": "code",
      "metadata": {
        "id": "J2dDv8KjfrKf"
      },
      "source": [
        "# File Handling In Python\n",
        "f=open(\"aa.txt\",\"w\")\n",
        "f.write(\"i love u\")\n",
        "f.close()\n",
        "\n",
        "# next time use append so that it continue to write if u use w again it will erase previous data\n",
        "#read func auto close the file\n",
        "#f.closed()// tells u file is closed or not "
      ],
      "execution_count": 52,
      "outputs": []
    },
    {
      "cell_type": "code",
      "metadata": {
        "id": "LQGPkpLrggYe"
      },
      "source": [
        "# if __name__ == \"__main__\": is used to denote entry point like main function"
      ],
      "execution_count": 53,
      "outputs": []
    },
    {
      "cell_type": "code",
      "metadata": {
        "id": "tEFwGacgk_jC",
        "colab": {
          "base_uri": "https://localhost:8080/"
        },
        "outputId": "43876416-00ba-4269-ec3f-54e5486c1456"
      },
      "source": [
        "# Exception Handling\n",
        "\n",
        "a=2\n",
        "b=0\n",
        "try:\n",
        "  c=a/b\n",
        "except Exception as e:\n",
        "  print('Exception is',e)\n"
      ],
      "execution_count": 54,
      "outputs": [
        {
          "output_type": "stream",
          "text": [
            "Exception is division by zero\n"
          ],
          "name": "stdout"
        }
      ]
    },
    {
      "cell_type": "code",
      "metadata": {
        "colab": {
          "base_uri": "https://localhost:8080/"
        },
        "id": "WRWGA4Rf5mc-",
        "outputId": "6e9f27a1-3008-4000-d378-f6bbf85284fa"
      },
      "source": [
        "# Class\n",
        "\n",
        "class human:\n",
        "  def __init__(self,name,occu):\n",
        "    self.name=name\n",
        "    self.occu=occu\n",
        "  def work(self):\n",
        "      if self.occu==\"t\":\n",
        "        print(self.name,\"play T\")\n",
        "      else:\n",
        "        print(self.name,\"shoote\")\n",
        "\n",
        "tom=human(\"Tom\",\"actot\")\n",
        "tom.work()"
      ],
      "execution_count": 55,
      "outputs": [
        {
          "output_type": "stream",
          "text": [
            "Tom shoote\n"
          ],
          "name": "stdout"
        }
      ]
    },
    {
      "cell_type": "code",
      "metadata": {
        "colab": {
          "base_uri": "https://localhost:8080/"
        },
        "id": "CPkxEtsV7uA3",
        "outputId": "143ee61b-1561-4e6d-b8e8-b87bfc933a08"
      },
      "source": [
        "#inheritance\n",
        "class vehicle:\n",
        "  def general_usage(self):\n",
        "    print(\"transport\")\n",
        "class car(vehicle):\n",
        "  def __init__(self):\n",
        "    print(\"i m car\")\n",
        "    self.wheels=4\n",
        "    self.has_roof=True\n",
        "\n",
        "  def specific_usage(self):\n",
        "    print(\"specific use is car\")\n",
        "\n",
        "class motorcycle(vehicle):\n",
        "  def __init__(self):\n",
        "    print(\"i m mootorcycle\")\n",
        "    self.wheels=2\n",
        "    self.has_roof=False\n",
        "  def specific_usage(self):\n",
        "    print(\"specific use is motor cycle\")\n",
        "\n",
        "\n",
        "c= car()\n",
        "c.general_usage()\n",
        "c.specific_usage()\n",
        "\n",
        "m= motorcycle()\n",
        "m.general_usage()\n",
        "m.specific_usage()\n",
        "\n",
        "print(isinstance(c,car)) "
      ],
      "execution_count": 56,
      "outputs": [
        {
          "output_type": "stream",
          "text": [
            "i m car\n",
            "transport\n",
            "specific use is car\n",
            "i m mootorcycle\n",
            "transport\n",
            "specific use is motor cycle\n",
            "True\n"
          ],
          "name": "stdout"
        }
      ]
    },
    {
      "cell_type": "code",
      "metadata": {
        "colab": {
          "base_uri": "https://localhost:8080/"
        },
        "id": "CU2ShFiv9_YV",
        "outputId": "8d2841de-bc7c-4300-f439-64c496b18883"
      },
      "source": [
        "# multiple Inheritence\n",
        "\n",
        "class father():\n",
        "  def gardening(self):\n",
        "    print(\"i m father\")\n",
        "\n",
        "class mother():\n",
        "  def cooking(self):\n",
        "    print(\"i m mother\")\n",
        "\n",
        "class child(father,mother):\n",
        "  def sports(self):\n",
        "    print(\"i m child\")\n",
        "\n",
        "c=child()\n",
        "c.cooking()\n",
        "c.gardening()"
      ],
      "execution_count": 57,
      "outputs": [
        {
          "output_type": "stream",
          "text": [
            "i m mother\n",
            "i m father\n"
          ],
          "name": "stdout"
        }
      ]
    },
    {
      "cell_type": "code",
      "metadata": {
        "colab": {
          "base_uri": "https://localhost:8080/"
        },
        "id": "wAUbW0Gk_H1B",
        "outputId": "ba4bbbb2-6b68-4cc1-8ce0-b9371d550477"
      },
      "source": [
        "# Raise Exception\n",
        "# built in exception\n",
        "\n",
        "try:\n",
        "  raise MemoryError('memory error')\n",
        "except MemoryError as e:\n",
        "  print(e)"
      ],
      "execution_count": 58,
      "outputs": [
        {
          "output_type": "stream",
          "text": [
            "memory error\n"
          ],
          "name": "stdout"
        }
      ]
    },
    {
      "cell_type": "code",
      "metadata": {
        "colab": {
          "base_uri": "https://localhost:8080/"
        },
        "id": "KaeOuldj_wiB",
        "outputId": "ba317c10-195a-4e64-f674-d6dbef99992b"
      },
      "source": [
        "# calling from general class of exception\n",
        "\n",
        "try:\n",
        "  raise Exception('memory error')\n",
        "except Exception as e:\n",
        "  print(e)"
      ],
      "execution_count": 59,
      "outputs": [
        {
          "output_type": "stream",
          "text": [
            "memory error\n"
          ],
          "name": "stdout"
        }
      ]
    },
    {
      "cell_type": "code",
      "metadata": {
        "colab": {
          "base_uri": "https://localhost:8080/"
        },
        "id": "BsDoEb23_6oD",
        "outputId": "7c9dc896-786c-43c7-e1d9-6c8d4a2ac6c5"
      },
      "source": [
        "# Creating user defined Exceptions\n",
        "\n",
        "class accident(Exception):\n",
        "  def __init__(self,msg):\n",
        "    self.msg=msg\n",
        "\n",
        "  def print_exception(self):\n",
        "    print(\"user defined\",self.msg)\n",
        "\n",
        "try:\n",
        "  raise accident(\"crash cars\")\n",
        "except accident as e:\n",
        "  e.print_exception()\n",
        "finally:\n",
        "  print(\"finally\")"
      ],
      "execution_count": 60,
      "outputs": [
        {
          "output_type": "stream",
          "text": [
            "user defined crash cars\n",
            "finally\n"
          ],
          "name": "stdout"
        }
      ]
    },
    {
      "cell_type": "code",
      "metadata": {
        "colab": {
          "base_uri": "https://localhost:8080/",
          "height": 136
        },
        "id": "nNNNN2B0A9ul",
        "outputId": "f6bdc017-fd10-4d9a-81f5-22c2ee0daa28"
      },
      "source": [
        "# Iterators\n",
        "\n",
        "a=[\"a\",\"s\",\"d\",\"q\",\"r\"]\n",
        "print(a)\n",
        "\n",
        "for i in a:\n",
        "  print(i)\n",
        "\n",
        "itr=iter(a)\n",
        "itr\n",
        "\n",
        "next(itr)\n",
        "next(itr)\n",
        "next(itr)\n"
      ],
      "execution_count": 61,
      "outputs": [
        {
          "output_type": "stream",
          "text": [
            "['a', 's', 'd', 'q', 'r']\n",
            "a\n",
            "s\n",
            "d\n",
            "q\n",
            "r\n"
          ],
          "name": "stdout"
        },
        {
          "output_type": "execute_result",
          "data": {
            "application/vnd.google.colaboratory.intrinsic+json": {
              "type": "string"
            },
            "text/plain": [
              "'d'"
            ]
          },
          "metadata": {
            "tags": []
          },
          "execution_count": 61
        }
      ]
    },
    {
      "cell_type": "code",
      "metadata": {
        "colab": {
          "base_uri": "https://localhost:8080/",
          "height": 35
        },
        "id": "EPVdhDVwCxax",
        "outputId": "429f45fa-eb75-4817-adf8-7ce0e88d29e1"
      },
      "source": [
        "itr1=reversed(a)\n",
        "itr1\n",
        "next(itr1)"
      ],
      "execution_count": 62,
      "outputs": [
        {
          "output_type": "execute_result",
          "data": {
            "application/vnd.google.colaboratory.intrinsic+json": {
              "type": "string"
            },
            "text/plain": [
              "'r'"
            ]
          },
          "metadata": {
            "tags": []
          },
          "execution_count": 62
        }
      ]
    },
    {
      "cell_type": "code",
      "metadata": {
        "id": "P1d09yZEDUEv",
        "colab": {
          "base_uri": "https://localhost:8080/"
        },
        "outputId": "f52ff8fc-8aa3-470e-d4c9-233686c24b04"
      },
      "source": [
        "# Generator is a simple way of creating iterator\n",
        "#yeild is same as return...it saves memory\n",
        "def remote_control_next():\n",
        "  yield \"cnn\"\n",
        "  yield \"espn\"\n",
        "itr=remote_control_next()\n",
        "itr"
      ],
      "execution_count": 63,
      "outputs": [
        {
          "output_type": "execute_result",
          "data": {
            "text/plain": [
              "<generator object remote_control_next at 0x7fd6d06d1350>"
            ]
          },
          "metadata": {
            "tags": []
          },
          "execution_count": 63
        }
      ]
    },
    {
      "cell_type": "code",
      "metadata": {
        "colab": {
          "base_uri": "https://localhost:8080/",
          "height": 35
        },
        "id": "KVz43BskjUMm",
        "outputId": "5eaad463-1afd-45b8-93b8-b38918832bc1"
      },
      "source": [
        "next(itr)"
      ],
      "execution_count": 64,
      "outputs": [
        {
          "output_type": "execute_result",
          "data": {
            "application/vnd.google.colaboratory.intrinsic+json": {
              "type": "string"
            },
            "text/plain": [
              "'cnn'"
            ]
          },
          "metadata": {
            "tags": []
          },
          "execution_count": 64
        }
      ]
    },
    {
      "cell_type": "code",
      "metadata": {
        "colab": {
          "base_uri": "https://localhost:8080/",
          "height": 35
        },
        "id": "3-1rp-XmjXrc",
        "outputId": "760fc03a-cc4a-44b9-ef10-943714c12733"
      },
      "source": [
        "next(itr)"
      ],
      "execution_count": 65,
      "outputs": [
        {
          "output_type": "execute_result",
          "data": {
            "application/vnd.google.colaboratory.intrinsic+json": {
              "type": "string"
            },
            "text/plain": [
              "'espn'"
            ]
          },
          "metadata": {
            "tags": []
          },
          "execution_count": 65
        }
      ]
    },
    {
      "cell_type": "code",
      "metadata": {
        "id": "_O-X9GQijmYx"
      },
      "source": [
        "# Fibonacci series\n",
        "\n",
        "def fib():\n",
        "  a,b=0,1\n",
        "  while True:\n",
        "    yield a\n",
        "    a,b=b,a+b\n"
      ],
      "execution_count": 66,
      "outputs": []
    },
    {
      "cell_type": "code",
      "metadata": {
        "colab": {
          "base_uri": "https://localhost:8080/"
        },
        "id": "KD6DBHaSj2RM",
        "outputId": "996187bc-5c37-44bb-a2da-4795dbc3af07"
      },
      "source": [
        "for f in fib():\n",
        "  if f>13:\n",
        "    break\n",
        "  print(f)"
      ],
      "execution_count": 67,
      "outputs": [
        {
          "output_type": "stream",
          "text": [
            "0\n",
            "1\n",
            "1\n",
            "2\n",
            "3\n",
            "5\n",
            "8\n",
            "13\n"
          ],
          "name": "stdout"
        }
      ]
    },
    {
      "cell_type": "code",
      "metadata": {
        "colab": {
          "base_uri": "https://localhost:8080/"
        },
        "id": "IZiRhtbskAJT",
        "outputId": "c4cecb15-e93f-46fb-f1ed-ad485fa8f2da"
      },
      "source": [
        "#list comprehension allows u to tramsform one list to another\n",
        "# similarly we can do this with set\n",
        "\n",
        "numbers=[1,2,3,4,5,6,7]\n",
        "even=[i for i in numbers if i%2==0]\n",
        "print(even)\n",
        "sqr=[i*i for i in numbers]\n",
        "print(sqr)"
      ],
      "execution_count": 68,
      "outputs": [
        {
          "output_type": "stream",
          "text": [
            "[2, 4, 6]\n",
            "[1, 4, 9, 16, 25, 36, 49]\n"
          ],
          "name": "stdout"
        }
      ]
    },
    {
      "cell_type": "code",
      "metadata": {
        "colab": {
          "base_uri": "https://localhost:8080/"
        },
        "id": "vSbnIRDplIlP",
        "outputId": "e4aefcf0-bba7-4cee-9445-170d53549bd7"
      },
      "source": [
        "# list comprehension using zip\n",
        "\n",
        "cities=[\"mumbai\",\"new york\",\"paries\"]\n",
        "countries=[\"india\",\"USA\",\"france\"]\n",
        "\n",
        "z=zip(cities,countries)\n",
        "z"
      ],
      "execution_count": 69,
      "outputs": [
        {
          "output_type": "execute_result",
          "data": {
            "text/plain": [
              "<zip at 0x7fd6d0682370>"
            ]
          },
          "metadata": {
            "tags": []
          },
          "execution_count": 69
        }
      ]
    },
    {
      "cell_type": "code",
      "metadata": {
        "colab": {
          "base_uri": "https://localhost:8080/"
        },
        "id": "fV07UZtPl1UI",
        "outputId": "f8113899-8aa7-4db9-ba6e-1b85c717b9ba"
      },
      "source": [
        "for i in z:\n",
        "  print(i)"
      ],
      "execution_count": 70,
      "outputs": [
        {
          "output_type": "stream",
          "text": [
            "('mumbai', 'india')\n",
            "('new york', 'USA')\n",
            "('paries', 'france')\n"
          ],
          "name": "stdout"
        }
      ]
    },
    {
      "cell_type": "code",
      "metadata": {
        "colab": {
          "base_uri": "https://localhost:8080/"
        },
        "id": "ZKfdY46Cl7L1",
        "outputId": "62af6c54-b2ac-4e51-8120-18d28a6409b7"
      },
      "source": [
        "# Sets and frozen set\n",
        "# set is a collection of unordered unique elements. we cannot access index\n",
        "\n",
        "b={\"o\",\"q\",\"a\",\"w\"}\n",
        "type(b)\n",
        "print(b)"
      ],
      "execution_count": 71,
      "outputs": [
        {
          "output_type": "stream",
          "text": [
            "{'w', 'o', 'q', 'a'}\n"
          ],
          "name": "stdout"
        }
      ]
    },
    {
      "cell_type": "code",
      "metadata": {
        "colab": {
          "base_uri": "https://localhost:8080/"
        },
        "id": "SPUFxVsfmoph",
        "outputId": "19095317-7a27-4a1f-9969-e3f4104b952c"
      },
      "source": [
        "n=[1,2,3,4,5,5]\n",
        "con_set=set (n)\n",
        "n"
      ],
      "execution_count": 72,
      "outputs": [
        {
          "output_type": "execute_result",
          "data": {
            "text/plain": [
              "[1, 2, 3, 4, 5, 5]"
            ]
          },
          "metadata": {
            "tags": []
          },
          "execution_count": 72
        }
      ]
    },
    {
      "cell_type": "code",
      "metadata": {
        "colab": {
          "base_uri": "https://localhost:8080/"
        },
        "id": "nALB7CBNm2rW",
        "outputId": "ce4fd52a-93a0-4bb7-f453-30c65d299371"
      },
      "source": [
        "# frozen set is a set in which we cannot change element\n",
        "fs= frozenset({1,2,3,4})\n",
        "fs"
      ],
      "execution_count": 73,
      "outputs": [
        {
          "output_type": "execute_result",
          "data": {
            "text/plain": [
              "frozenset({1, 2, 3, 4})"
            ]
          },
          "metadata": {
            "tags": []
          },
          "execution_count": 73
        }
      ]
    },
    {
      "cell_type": "code",
      "metadata": {
        "id": "HDnNgaTtnE4-"
      },
      "source": [
        "# decorator acts a wrapper. we first defined and called it whenever necessaru using @name"
      ],
      "execution_count": 74,
      "outputs": []
    },
    {
      "cell_type": "code",
      "metadata": {
        "colab": {
          "base_uri": "https://localhost:8080/"
        },
        "id": "qTh_bYXXppUm",
        "outputId": "59b1e39a-cbf5-4a1b-a6bf-78b97c6b19df"
      },
      "source": [
        "# multi threading\n",
        "\n",
        "import time\n",
        "\n",
        "def cal_sqr(num):\n",
        "  print(\"calculate sq of n\")\n",
        "  for n in num:\n",
        "    time.sleep(0.2)\n",
        "    print(\"square:\",n*n)\n",
        "\n",
        "def cal_cube(num):\n",
        "  print(\"calculate cube of n\")\n",
        "  for n in num:\n",
        "    time.sleep(0.2)\n",
        "    print(\"cube:\",n*n*n)\n",
        "\n",
        "\n",
        "arr=[2,4,5,6]\n",
        "\n",
        "t=time.time()\n",
        "cal_sqr(arr)\n",
        "cal_cube(arr)\n",
        "\n",
        "print(\"done in\",time.time()-t)\n",
        "print(\"all done\")"
      ],
      "execution_count": 75,
      "outputs": [
        {
          "output_type": "stream",
          "text": [
            "calculate sq of n\n",
            "square: 4\n",
            "square: 16\n",
            "square: 25\n",
            "square: 36\n",
            "calculate cube of n\n",
            "cube: 8\n",
            "cube: 64\n",
            "cube: 125\n",
            "cube: 216\n",
            "done in 1.6068263053894043\n",
            "all done\n"
          ],
          "name": "stdout"
        }
      ]
    },
    {
      "cell_type": "code",
      "metadata": {
        "colab": {
          "base_uri": "https://localhost:8080/"
        },
        "id": "HPtGImO0re43",
        "outputId": "13e0c430-6ae1-4f9a-ed89-aa2e6869b80d"
      },
      "source": [
        "#using multithreading\n",
        "\n",
        "# multi threading\n",
        "\n",
        "import time\n",
        "import threading\n",
        "\n",
        "def cal_sqr(num):\n",
        "  print(\"calculate sq of n\")\n",
        "  for n in num:\n",
        "    time.sleep(0.2)\n",
        "    print(\"square:\",n*n)\n",
        "\n",
        "def cal_cube(num):\n",
        "  print(\"calculate cube of n\")\n",
        "  for n in num:\n",
        "    time.sleep(0.2)\n",
        "    print(\"cube:\",n*n*n)\n",
        "\n",
        "\n",
        "arr=[2,4,5,6]\n",
        "\n",
        "t=time.time()\n",
        "\n",
        "t1=threading.Thread(target=cal_sqr,args=(arr,))\n",
        "\n",
        "t2=threading.Thread(target=cal_cube,args=(arr,))\n",
        "t1.start()\n",
        "t2.start()\n",
        "t1.join()\n",
        "t1.join()\n",
        "print(\"done in\",time.time()-t)\n",
        "print(\"all done\")"
      ],
      "execution_count": 76,
      "outputs": [
        {
          "output_type": "stream",
          "text": [
            "calculate sq of ncalculate cube of n\n",
            "\n",
            "square:cube: 8\n",
            " 4\n",
            "cube: 64\n",
            "square: 16\n",
            "cube: 125\n",
            "square: 25\n",
            "cube: 216\n",
            "square: 36\n",
            "done in 0.8131940364837646\n",
            "all done\n"
          ],
          "name": "stdout"
        }
      ]
    },
    {
      "cell_type": "code",
      "metadata": {
        "colab": {
          "base_uri": "https://localhost:8080/"
        },
        "id": "Bzuyarr7r-Hb",
        "outputId": "cef17d04-ff9f-441c-9625-1034749332bb"
      },
      "source": [
        "#multi processing\n",
        "\n",
        "import time\n",
        "import multiprocessing\n",
        "\n",
        "\n",
        "def cal_cube(numb):\n",
        "  for i in numb:\n",
        "    print('cube'+str(n*n*n))\n",
        "\n",
        "\n",
        "def cal_sqr(numb):\n",
        "  for i in numb:\n",
        "    print('sqr'+str(n*n))\n",
        "\n",
        "if __name__ == '__main__':\n",
        "  arr=[4,3,2]\n",
        "  p1=multiprocessing.Process(target=cal_sqr,args=(arr,))\n",
        "  p2=multiprocessing.Process(target=cal_cube,args=(arr,))\n",
        "\n",
        "  p1.start()\n",
        "  p2.start()\n",
        "\n",
        "  p1.join()\n",
        "  p2.join()\n",
        "\n",
        "  print(\"done\")\n"
      ],
      "execution_count": 77,
      "outputs": [
        {
          "output_type": "stream",
          "text": [
            "Process Process-1:\n",
            "Process Process-2:\n",
            "Traceback (most recent call last):\n",
            "  File \"/usr/lib/python3.7/multiprocessing/process.py\", line 297, in _bootstrap\n",
            "    self.run()\n",
            "Traceback (most recent call last):\n",
            "  File \"<ipython-input-77-952380e2b292>\", line 14, in cal_sqr\n",
            "    print('sqr'+str(n*n))\n",
            "  File \"/usr/lib/python3.7/multiprocessing/process.py\", line 99, in run\n",
            "    self._target(*self._args, **self._kwargs)\n",
            "TypeError: can't multiply sequence by non-int of type 'list'\n",
            "  File \"/usr/lib/python3.7/multiprocessing/process.py\", line 297, in _bootstrap\n",
            "    self.run()\n",
            "  File \"/usr/lib/python3.7/multiprocessing/process.py\", line 99, in run\n",
            "    self._target(*self._args, **self._kwargs)\n",
            "  File \"<ipython-input-77-952380e2b292>\", line 9, in cal_cube\n",
            "    print('cube'+str(n*n*n))\n",
            "TypeError: can't multiply sequence by non-int of type 'list'\n"
          ],
          "name": "stderr"
        },
        {
          "output_type": "stream",
          "text": [
            "done\n"
          ],
          "name": "stdout"
        }
      ]
    },
    {
      "cell_type": "code",
      "metadata": {
        "id": "kAp7TGAQLBLh"
      },
      "source": [
        "# type casting\n",
        "x = int(1)   # x will be 1\n",
        "y = int(2.8) # y will be 2\n",
        "z = int(\"3\") # z will be 3"
      ],
      "execution_count": 78,
      "outputs": []
    },
    {
      "cell_type": "code",
      "metadata": {
        "colab": {
          "base_uri": "https://localhost:8080/"
        },
        "id": "PUtzzKW2LHl6",
        "outputId": "20b74adb-41bd-4b56-9c63-ee5ee406bc66"
      },
      "source": [
        "x"
      ],
      "execution_count": 79,
      "outputs": [
        {
          "output_type": "execute_result",
          "data": {
            "text/plain": [
              "1"
            ]
          },
          "metadata": {
            "tags": []
          },
          "execution_count": 79
        }
      ]
    },
    {
      "cell_type": "code",
      "metadata": {
        "colab": {
          "base_uri": "https://localhost:8080/"
        },
        "id": "jvFzo0daLKQ-",
        "outputId": "fa4de774-3ea9-4d52-f595-0e488bb1c0d2"
      },
      "source": [
        "print(type(y))"
      ],
      "execution_count": 80,
      "outputs": [
        {
          "output_type": "stream",
          "text": [
            "<class 'int'>\n"
          ],
          "name": "stdout"
        }
      ]
    },
    {
      "cell_type": "code",
      "metadata": {
        "colab": {
          "base_uri": "https://localhost:8080/"
        },
        "id": "S1bPBVx_LOY1",
        "outputId": "e0d929be-d851-4429-a584-8c26d30cf181"
      },
      "source": [
        "x = float(1)     # x will be 1.0\n",
        "y = float(2.8)   # y will be 2.8\n",
        "z = float(\"3\")   # z will be 3.0\n",
        "w = float(\"4.2\") # w will be 4.2\n",
        "\n",
        "x1 = str(\"s1\") # x will be 's1'\n",
        "y1 = str(2)    # y will be '2'\n",
        "z1 = str(3.0)  # z will be '3.0'\n",
        "\n",
        "print(type(x))\n",
        "print(type(y))\n",
        "print(type(z))\n",
        "print(type(w))\n",
        "print(type(y1))"
      ],
      "execution_count": 81,
      "outputs": [
        {
          "output_type": "stream",
          "text": [
            "<class 'float'>\n",
            "<class 'float'>\n",
            "<class 'float'>\n",
            "<class 'float'>\n",
            "<class 'str'>\n"
          ],
          "name": "stdout"
        }
      ]
    },
    {
      "cell_type": "code",
      "metadata": {
        "colab": {
          "base_uri": "https://localhost:8080/"
        },
        "id": "ZswpoTrGLjNJ",
        "outputId": "2e61bae9-a74b-4ec3-8a11-c9d35dc211ff"
      },
      "source": [
        "\"\"\"\n",
        "A lambda function is a small anonymous function.\n",
        "\n",
        "A lambda function can take any number of arguments, but can only have one expression.\n",
        "\n",
        "Lambda functions can take any number of arguments:\n",
        "\n",
        "\"\"\"\n",
        "x = lambda a, b : a * b\n",
        "print(x(5, 6))"
      ],
      "execution_count": 82,
      "outputs": [
        {
          "output_type": "stream",
          "text": [
            "30\n"
          ],
          "name": "stdout"
        }
      ]
    },
    {
      "cell_type": "code",
      "metadata": {
        "colab": {
          "base_uri": "https://localhost:8080/"
        },
        "id": "1fHiqfaqOM7X",
        "outputId": "485631e4-40fb-4735-84f7-b1a51f7c13ae"
      },
      "source": [
        "# global keyword\n",
        "def myfunc():\n",
        "  global x\n",
        "  x = 300\n",
        "\n",
        "myfunc()\n",
        "\n",
        "print(x)"
      ],
      "execution_count": 83,
      "outputs": [
        {
          "output_type": "stream",
          "text": [
            "300\n"
          ],
          "name": "stdout"
        }
      ]
    },
    {
      "cell_type": "code",
      "metadata": {
        "id": "XeLOaEnKuU3s"
      },
      "source": [
        "# Python Testing\n",
        "\n",
        "# py testing frameworks are unittest, nose, pytest.\n",
        "\n",
        "#pip stands for prefered installation program\n"
      ],
      "execution_count": 84,
      "outputs": []
    }
  ]
}