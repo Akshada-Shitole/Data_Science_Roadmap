{
  "nbformat": 4,
  "nbformat_minor": 0,
  "metadata": {
    "colab": {
      "name": "Udemy course 4 Pillars of Python.ipynb",
      "provenance": [],
      "collapsed_sections": []
    },
    "kernelspec": {
      "display_name": "Python 3",
      "name": "python3"
    },
    "language_info": {
      "name": "python"
    }
  },
  "cells": [
    {
      "cell_type": "code",
      "metadata": {
        "colab": {
          "base_uri": "https://localhost:8080/"
        },
        "id": "rSYbd0ZhBfca",
        "outputId": "0a884435-5a1e-4bc5-8bb0-5490c370231e"
      },
      "source": [
        "# OOP Concepts : Classes and objects\n",
        "\n",
        "# Program 1\n",
        "\n",
        "\n",
        "class Employee:\n",
        "    name=\"akshada\"\n",
        "    designation=\"system engineer\"\n",
        "    sales_target=8\n",
        "    def targeted(self):\n",
        "        if self.sales_target>=5:\n",
        "            print(\"Excellent Akshada\")\n",
        "        else:\n",
        "            print(\"Can do better\")\n",
        "\n",
        "Emp=Employee() # object created\n",
        "print(Emp.name) # object with name value printed\n",
        "Emp.targeted() # from object function is called\n"
      ],
      "execution_count": null,
      "outputs": [
        {
          "output_type": "stream",
          "text": [
            "akshada\n",
            "Excellent Akshada\n"
          ],
          "name": "stdout"
        }
      ]
    },
    {
      "cell_type": "code",
      "metadata": {
        "colab": {
          "base_uri": "https://localhost:8080/"
        },
        "id": "6hPLd5R3BlRG",
        "outputId": "fa765d72-ea74-4239-9b2c-e79b8d9e61f8"
      },
      "source": [
        "# Program 2 using self...self means current class object\n",
        "\n",
        "class Employee():\n",
        "    name=\"akshada\"\n",
        "    designation=\"system engineer\"\n",
        "    sales_target=8\n",
        "    def targeted(self):\n",
        "        if self.sales_target>=5:\n",
        "            print(\"Excellent Akshada\")\n",
        "        else:\n",
        "            print(\"Can do better\")\n",
        "\n",
        "Emp=Employee() # object created\n",
        "print(Emp.name) # object with name value printed\n",
        "Emp.targeted() "
      ],
      "execution_count": null,
      "outputs": [
        {
          "output_type": "stream",
          "text": [
            "akshada\n",
            "Excellent Akshada\n"
          ],
          "name": "stdout"
        }
      ]
    },
    {
      "cell_type": "code",
      "metadata": {
        "colab": {
          "base_uri": "https://localhost:8080/"
        },
        "id": "dd9ZG6bBB6AZ",
        "outputId": "32a461ee-678b-49e2-b248-044fe6b23e52"
      },
      "source": [
        "class Emp:\n",
        "  def details(self):\n",
        "    print(\"Instance method is this\")\n",
        "Em=Emp()\n",
        "Em.details()"
      ],
      "execution_count": null,
      "outputs": [
        {
          "output_type": "stream",
          "text": [
            "Instance method is this\n"
          ],
          "name": "stdout"
        }
      ]
    },
    {
      "cell_type": "code",
      "metadata": {
        "colab": {
          "base_uri": "https://localhost:8080/"
        },
        "id": "2ZPCUSq9ENRt",
        "outputId": "52836576-c275-4a74-d2ce-ccad7bb249ed"
      },
      "source": [
        "class Emp:\n",
        "  def details(self):\n",
        "    print(\"Instance method is this\")\n",
        "\n",
        "# here if we () then it shows an error to avoid error use decorator static\n",
        "\n",
        "  @staticmethod\n",
        "  def details1():\n",
        "      print(\"this is static\")\n",
        "\n",
        "Em=Emp()\n",
        "Em.details()\n",
        "Em.details1()"
      ],
      "execution_count": null,
      "outputs": [
        {
          "output_type": "stream",
          "text": [
            "Instance method is this\n",
            "this is static\n"
          ],
          "name": "stdout"
        }
      ]
    },
    {
      "cell_type": "code",
      "metadata": {
        "colab": {
          "base_uri": "https://localhost:8080/"
        },
        "id": "m7Pol25dEaxL",
        "outputId": "c9d1504e-320d-4f17-cd39-7e0d2fed6f83"
      },
      "source": [
        "# init method use\n",
        "class Emp:\n",
        "\n",
        "  def __init__(self):\n",
        "     self.name=\"mark\"\n",
        "\n",
        "  def details(self):\n",
        "    print(self.name)\n",
        "E=Emp()\n",
        "E.details()\n"
      ],
      "execution_count": null,
      "outputs": [
        {
          "output_type": "stream",
          "text": [
            "mark\n"
          ],
          "name": "stdout"
        }
      ]
    },
    {
      "cell_type": "code",
      "metadata": {
        "colab": {
          "base_uri": "https://localhost:8080/"
        },
        "id": "sFaTCA8_HTcq",
        "outputId": "cfa322ae-5d06-4587-c623-df0174e9e0c7"
      },
      "source": [
        "# init method use\n",
        "class Emp:\n",
        "\n",
        "  def __init__(self,name):\n",
        "     self.name=name\n",
        "\n",
        "  def details(self):\n",
        "    print(self.name)\n",
        "E=Emp(\"Akshda\")\n",
        "E1=Emp(\"A\")\n",
        "E.details()\n",
        "E1.details()"
      ],
      "execution_count": null,
      "outputs": [
        {
          "output_type": "stream",
          "text": [
            "Akshda\n",
            "A\n"
          ],
          "name": "stdout"
        }
      ]
    },
    {
      "cell_type": "code",
      "metadata": {
        "colab": {
          "background_save": true,
          "base_uri": "https://localhost:8080/"
        },
        "id": "yK483iq1ID0a",
        "outputId": "71bc9274-93ca-451f-f30b-db16f3b47a16"
      },
      "source": [
        "# The Encapsulation is performed in order to achieve the Abstraction\n",
        "# mini project on car details\n",
        "class Car:\n",
        "    def __init__(self):\n",
        "        # A dictionary to map the type of car and price per day\n",
        "        self.carFare = {'Hatchback': 30, 'Sedan': 50, 'SUV': 100}\n",
        "\n",
        "    def displayFareDetails(self):\n",
        "        print(\"Cost per day: \")\n",
        "        print(\"Hatchback: $\",self.carFare['Hatchback'])\n",
        "        print(\"Sedan: $\", self.carFare['Sedan'])\n",
        "        print(\"SUV: $\", self.carFare['SUV'])\n",
        "\n",
        "    def calculateFare(self, typeOfCar, numberOfDays):\n",
        "        # Calculate the fare depending upon the type of car and number of days as requested by the user\n",
        "        return self.carFare[typeOfCar] * numberOfDays\n",
        "\n",
        "\n",
        "car = Car()\n",
        "while True:\n",
        "    print(\"Enter 1 to display the fare details\")\n",
        "    print(\"Enter 2 to rent a car\")\n",
        "    print(\"Enter 3 to exit\")\n",
        "    userChoice = (int(input()))\n",
        "    if userChoice is 1:\n",
        "        car.displayFareDetails()\n",
        "    elif userChoice is 2:\n",
        "        print(\"Enter the type of car you would like to borrow\")\n",
        "        typeOfCar = input()\n",
        "        print(\"Enter the number of days you would like to borrow the car\")\n",
        "        numberOfDays = int(input())\n",
        "        fare = car.calculateFare(typeOfCar, numberOfDays)\n",
        "        print(\"Total payable amount: $\",fare)\n",
        "        print(\"Thank you!\")\n",
        "    elif userChoice is 3:\n",
        "        quit()\n"
      ],
      "execution_count": null,
      "outputs": [
        {
          "output_type": "stream",
          "text": [
            "Enter 1 to display the fare details\n",
            "Enter 2 to rent a car\n",
            "Enter 3 to exit\n",
            "Cost per day: \n",
            "Hatchback: $ 30\n",
            "Sedan: $ 50\n",
            "SUV: $ 100\n",
            "Enter 1 to display the fare details\n",
            "Enter 2 to rent a car\n",
            "Enter 3 to exit\n",
            "Cost per day: \n",
            "Hatchback: $ 30\n",
            "Sedan: $ 50\n",
            "SUV: $ 100\n",
            "Enter 1 to display the fare details\n",
            "Enter 2 to rent a car\n",
            "Enter 3 to exit\n",
            "Enter the type of car you would like to borrow\n",
            "Enter the number of days you would like to borrow the car\n",
            "Total payable amount: $ 50\n",
            "Thank you!\n",
            "Enter 1 to display the fare details\n",
            "Enter 2 to rent a car\n",
            "Enter 3 to exit\n",
            "Enter 1 to display the fare details\n",
            "Enter 2 to rent a car\n",
            "Enter 3 to exit\n"
          ],
          "name": "stdout"
        }
      ]
    },
    {
      "cell_type": "code",
      "metadata": {
        "id": "5zTdtudALxDI",
        "colab": {
          "base_uri": "https://localhost:8080/",
          "height": 1000
        },
        "outputId": "19bb5db6-ccbc-49e3-8a55-19490e5c19b1"
      },
      "source": [
        "# Library Management Systems\n",
        "class Library:\n",
        "\n",
        "  def __init__(self,listofbooks):\n",
        "    self.available=listofbooks\n",
        "\n",
        "  def display(self):\n",
        "    print(\"\\n Following Books Are Available\")\n",
        "\n",
        "    for i in self.available:\n",
        "      print(i)\n",
        "\n",
        "  def borrow(self,reqbook):\n",
        "    if reqbook in self.available:\n",
        "      print(\"Book Given\")\n",
        "      self.available.remove(reqbook)\n",
        "    else:\n",
        "      print(\"No Stock\")\n",
        "\n",
        "  def addbook(self,rbook):\n",
        "    self.available.append(rbook)\n",
        "    print(\"Book Added to Store Now\")\n",
        "\n",
        "class Customer:\n",
        "\n",
        "  def requestbook():\n",
        "    print(\"enter the book u want:\")\n",
        "    self.book=input()\n",
        "    return self.book\n",
        "\n",
        "\n",
        "  def returnbook():\n",
        "    print(\"enter the book u want to return:\")\n",
        "    self.book=input()\n",
        "    return self.book\n",
        "\n",
        "\n",
        "lib= Library(['A','B','C','D'])\n",
        "cust=Customer()\n",
        "while True:\n",
        "  print(\"Menu\")\n",
        "  print(\"1. Display\")\n",
        "  print(\"2. Request\")\n",
        "  print(\"3.Return\")\n",
        "  print(\"Exit\")\n",
        "\n",
        "  userchoice=int(input())\n",
        "\n",
        "  if userchoice==1:\n",
        "    lib.display()\n",
        "\n",
        "  elif userchoice==2:\n",
        "    r=cust.requestbook()\n",
        "    lib.borrow(r)\n",
        "\n",
        "  elif userchoice==3:\n",
        "    r1=cust.returnbook()\n",
        "    lib.addbook(r1)\n",
        "\n",
        "  else:\n",
        "    quit()\n"
      ],
      "execution_count": null,
      "outputs": [
        {
          "output_type": "stream",
          "text": [
            "Menu\n",
            "1. Display\n",
            "2. Request\n",
            "3.Return\n",
            "Exit\n",
            "1\n",
            "Menu\n",
            "1. Display\n",
            "2. Request\n",
            "3.Return\n",
            "Exit\n",
            "2\n",
            "Menu\n",
            "1. Display\n",
            "2. Request\n",
            "3.Return\n",
            "Exit\n",
            "3\n",
            "Menu\n",
            "1. Display\n",
            "2. Request\n",
            "3.Return\n",
            "Exit\n",
            "3\n",
            "Menu\n",
            "1. Display\n",
            "2. Request\n",
            "3.Return\n",
            "Exit\n"
          ],
          "name": "stdout"
        },
        {
          "output_type": "error",
          "ename": "KeyboardInterrupt",
          "evalue": "ignored",
          "traceback": [
            "\u001b[0;31m---------------------------------------------------------------------------\u001b[0m",
            "\u001b[0;31mKeyboardInterrupt\u001b[0m                         Traceback (most recent call last)",
            "\u001b[0;32m/usr/local/lib/python3.7/dist-packages/ipykernel/kernelbase.py\u001b[0m in \u001b[0;36m_input_request\u001b[0;34m(self, prompt, ident, parent, password)\u001b[0m\n\u001b[1;32m    728\u001b[0m             \u001b[0;32mtry\u001b[0m\u001b[0;34m:\u001b[0m\u001b[0;34m\u001b[0m\u001b[0;34m\u001b[0m\u001b[0m\n\u001b[0;32m--> 729\u001b[0;31m                 \u001b[0mident\u001b[0m\u001b[0;34m,\u001b[0m \u001b[0mreply\u001b[0m \u001b[0;34m=\u001b[0m \u001b[0mself\u001b[0m\u001b[0;34m.\u001b[0m\u001b[0msession\u001b[0m\u001b[0;34m.\u001b[0m\u001b[0mrecv\u001b[0m\u001b[0;34m(\u001b[0m\u001b[0mself\u001b[0m\u001b[0;34m.\u001b[0m\u001b[0mstdin_socket\u001b[0m\u001b[0;34m,\u001b[0m \u001b[0;36m0\u001b[0m\u001b[0;34m)\u001b[0m\u001b[0;34m\u001b[0m\u001b[0;34m\u001b[0m\u001b[0m\n\u001b[0m\u001b[1;32m    730\u001b[0m             \u001b[0;32mexcept\u001b[0m \u001b[0mException\u001b[0m\u001b[0;34m:\u001b[0m\u001b[0;34m\u001b[0m\u001b[0;34m\u001b[0m\u001b[0m\n",
            "\u001b[0;32m/usr/local/lib/python3.7/dist-packages/jupyter_client/session.py\u001b[0m in \u001b[0;36mrecv\u001b[0;34m(self, socket, mode, content, copy)\u001b[0m\n\u001b[1;32m    802\u001b[0m         \u001b[0;32mtry\u001b[0m\u001b[0;34m:\u001b[0m\u001b[0;34m\u001b[0m\u001b[0;34m\u001b[0m\u001b[0m\n\u001b[0;32m--> 803\u001b[0;31m             \u001b[0mmsg_list\u001b[0m \u001b[0;34m=\u001b[0m \u001b[0msocket\u001b[0m\u001b[0;34m.\u001b[0m\u001b[0mrecv_multipart\u001b[0m\u001b[0;34m(\u001b[0m\u001b[0mmode\u001b[0m\u001b[0;34m,\u001b[0m \u001b[0mcopy\u001b[0m\u001b[0;34m=\u001b[0m\u001b[0mcopy\u001b[0m\u001b[0;34m)\u001b[0m\u001b[0;34m\u001b[0m\u001b[0;34m\u001b[0m\u001b[0m\n\u001b[0m\u001b[1;32m    804\u001b[0m         \u001b[0;32mexcept\u001b[0m \u001b[0mzmq\u001b[0m\u001b[0;34m.\u001b[0m\u001b[0mZMQError\u001b[0m \u001b[0;32mas\u001b[0m \u001b[0me\u001b[0m\u001b[0;34m:\u001b[0m\u001b[0;34m\u001b[0m\u001b[0;34m\u001b[0m\u001b[0m\n",
            "\u001b[0;32m/usr/local/lib/python3.7/dist-packages/zmq/sugar/socket.py\u001b[0m in \u001b[0;36mrecv_multipart\u001b[0;34m(self, flags, copy, track)\u001b[0m\n\u001b[1;32m    582\u001b[0m         \"\"\"\n\u001b[0;32m--> 583\u001b[0;31m         \u001b[0mparts\u001b[0m \u001b[0;34m=\u001b[0m \u001b[0;34m[\u001b[0m\u001b[0mself\u001b[0m\u001b[0;34m.\u001b[0m\u001b[0mrecv\u001b[0m\u001b[0;34m(\u001b[0m\u001b[0mflags\u001b[0m\u001b[0;34m,\u001b[0m \u001b[0mcopy\u001b[0m\u001b[0;34m=\u001b[0m\u001b[0mcopy\u001b[0m\u001b[0;34m,\u001b[0m \u001b[0mtrack\u001b[0m\u001b[0;34m=\u001b[0m\u001b[0mtrack\u001b[0m\u001b[0;34m)\u001b[0m\u001b[0;34m]\u001b[0m\u001b[0;34m\u001b[0m\u001b[0;34m\u001b[0m\u001b[0m\n\u001b[0m\u001b[1;32m    584\u001b[0m         \u001b[0;31m# have first part already, only loop while more to receive\u001b[0m\u001b[0;34m\u001b[0m\u001b[0;34m\u001b[0m\u001b[0;34m\u001b[0m\u001b[0m\n",
            "\u001b[0;32mzmq/backend/cython/socket.pyx\u001b[0m in \u001b[0;36mzmq.backend.cython.socket.Socket.recv\u001b[0;34m()\u001b[0m\n",
            "\u001b[0;32mzmq/backend/cython/socket.pyx\u001b[0m in \u001b[0;36mzmq.backend.cython.socket.Socket.recv\u001b[0;34m()\u001b[0m\n",
            "\u001b[0;32mzmq/backend/cython/socket.pyx\u001b[0m in \u001b[0;36mzmq.backend.cython.socket._recv_copy\u001b[0;34m()\u001b[0m\n",
            "\u001b[0;32m/usr/local/lib/python3.7/dist-packages/zmq/backend/cython/checkrc.pxd\u001b[0m in \u001b[0;36mzmq.backend.cython.checkrc._check_rc\u001b[0;34m()\u001b[0m\n",
            "\u001b[0;31mKeyboardInterrupt\u001b[0m: ",
            "\nDuring handling of the above exception, another exception occurred:\n",
            "\u001b[0;31mKeyboardInterrupt\u001b[0m                         Traceback (most recent call last)",
            "\u001b[0;32m<ipython-input-7-24e0f02cfd8a>\u001b[0m in \u001b[0;36m<module>\u001b[0;34m()\u001b[0m\n\u001b[1;32m     45\u001b[0m   \u001b[0mprint\u001b[0m\u001b[0;34m(\u001b[0m\u001b[0;34m\"Exit\"\u001b[0m\u001b[0;34m)\u001b[0m\u001b[0;34m\u001b[0m\u001b[0;34m\u001b[0m\u001b[0m\n\u001b[1;32m     46\u001b[0m \u001b[0;34m\u001b[0m\u001b[0m\n\u001b[0;32m---> 47\u001b[0;31m   \u001b[0muserchoice\u001b[0m\u001b[0;34m=\u001b[0m\u001b[0minput\u001b[0m\u001b[0;34m(\u001b[0m\u001b[0;34m)\u001b[0m\u001b[0;34m\u001b[0m\u001b[0;34m\u001b[0m\u001b[0m\n\u001b[0m\u001b[1;32m     48\u001b[0m \u001b[0;34m\u001b[0m\u001b[0m\n\u001b[1;32m     49\u001b[0m   \u001b[0;32mif\u001b[0m \u001b[0muserchoice\u001b[0m\u001b[0;34m==\u001b[0m\u001b[0;36m1\u001b[0m\u001b[0;34m:\u001b[0m\u001b[0;34m\u001b[0m\u001b[0;34m\u001b[0m\u001b[0m\n",
            "\u001b[0;32m/usr/local/lib/python3.7/dist-packages/ipykernel/kernelbase.py\u001b[0m in \u001b[0;36mraw_input\u001b[0;34m(self, prompt)\u001b[0m\n\u001b[1;32m    702\u001b[0m             \u001b[0mself\u001b[0m\u001b[0;34m.\u001b[0m\u001b[0m_parent_ident\u001b[0m\u001b[0;34m,\u001b[0m\u001b[0;34m\u001b[0m\u001b[0;34m\u001b[0m\u001b[0m\n\u001b[1;32m    703\u001b[0m             \u001b[0mself\u001b[0m\u001b[0;34m.\u001b[0m\u001b[0m_parent_header\u001b[0m\u001b[0;34m,\u001b[0m\u001b[0;34m\u001b[0m\u001b[0;34m\u001b[0m\u001b[0m\n\u001b[0;32m--> 704\u001b[0;31m             \u001b[0mpassword\u001b[0m\u001b[0;34m=\u001b[0m\u001b[0;32mFalse\u001b[0m\u001b[0;34m,\u001b[0m\u001b[0;34m\u001b[0m\u001b[0;34m\u001b[0m\u001b[0m\n\u001b[0m\u001b[1;32m    705\u001b[0m         )\n\u001b[1;32m    706\u001b[0m \u001b[0;34m\u001b[0m\u001b[0m\n",
            "\u001b[0;32m/usr/local/lib/python3.7/dist-packages/ipykernel/kernelbase.py\u001b[0m in \u001b[0;36m_input_request\u001b[0;34m(self, prompt, ident, parent, password)\u001b[0m\n\u001b[1;32m    732\u001b[0m             \u001b[0;32mexcept\u001b[0m \u001b[0mKeyboardInterrupt\u001b[0m\u001b[0;34m:\u001b[0m\u001b[0;34m\u001b[0m\u001b[0;34m\u001b[0m\u001b[0m\n\u001b[1;32m    733\u001b[0m                 \u001b[0;31m# re-raise KeyboardInterrupt, to truncate traceback\u001b[0m\u001b[0;34m\u001b[0m\u001b[0;34m\u001b[0m\u001b[0;34m\u001b[0m\u001b[0m\n\u001b[0;32m--> 734\u001b[0;31m                 \u001b[0;32mraise\u001b[0m \u001b[0mKeyboardInterrupt\u001b[0m\u001b[0;34m\u001b[0m\u001b[0;34m\u001b[0m\u001b[0m\n\u001b[0m\u001b[1;32m    735\u001b[0m             \u001b[0;32melse\u001b[0m\u001b[0;34m:\u001b[0m\u001b[0;34m\u001b[0m\u001b[0;34m\u001b[0m\u001b[0m\n\u001b[1;32m    736\u001b[0m                 \u001b[0;32mbreak\u001b[0m\u001b[0;34m\u001b[0m\u001b[0;34m\u001b[0m\u001b[0m\n",
            "\u001b[0;31mKeyboardInterrupt\u001b[0m: "
          ]
        }
      ]
    },
    {
      "cell_type": "code",
      "metadata": {
        "colab": {
          "base_uri": "https://localhost:8080/"
        },
        "id": "6-E1W9xFpKqg",
        "outputId": "28a72f63-dc15-4df6-e157-5e34e248c796"
      },
      "source": [
        "# Single Inheritence\n",
        "\n",
        "class Apple:\n",
        "  manufacturer=\"apple\"\n",
        "  contactwebsite=\"www.apple.com\"\n",
        "\n",
        "  def contactdetails(self):\n",
        "    print(\"this is our contact details\",self.contactwebsite)\n",
        "\n",
        "class Macbook(Apple):\n",
        "  def __init__(self):\n",
        "    self.yearofman=\"2017\"\n",
        "\n",
        "  def manufacturingdetails(self):\n",
        "    print(\"manufacture year is\",self.yearofman)\n",
        "    print(\"manufacturere is\",self.manufacturer)\n",
        "\n",
        "macbook=Macbook()\n",
        "apple=Apple()\n",
        "macbook.contactdetails()\n",
        "apple.contactdetails()\n",
        "#apple.manufacturingdetails()  we cannnot access base class object using parent class\n"
      ],
      "execution_count": null,
      "outputs": [
        {
          "output_type": "stream",
          "text": [
            "this is our contact details www.apple.com\n",
            "this is our contact details www.apple.com\n"
          ],
          "name": "stdout"
        }
      ]
    },
    {
      "cell_type": "code",
      "metadata": {
        "id": "tcqBPIGxtFI_",
        "colab": {
          "base_uri": "https://localhost:8080/"
        },
        "outputId": "c7448509-c477-4bac-a9a9-98e85adcb721"
      },
      "source": [
        "# multiple inheritance\n",
        "\n",
        "class Operatingsys:\n",
        "  multitasking=True\n",
        "  name=\"Mac OS\"\n",
        "\n",
        "class Apple:\n",
        "  website=\"www.apple.com\"\n",
        "  name=\"Apple\"\n",
        "\n",
        "class Macbook(Operatingsys,Apple):\n",
        "  def __init__(self):\n",
        "    if self.multitasking==True:\n",
        "      print(\"multitasking\")\n",
        "      print(self.name)\n",
        "\n",
        "mac=Macbook()"
      ],
      "execution_count": null,
      "outputs": [
        {
          "output_type": "stream",
          "text": [
            "multitasking\n",
            "Mac OS\n"
          ],
          "name": "stdout"
        }
      ]
    },
    {
      "cell_type": "code",
      "metadata": {
        "colab": {
          "base_uri": "https://localhost:8080/"
        },
        "id": "x5KgE_7a_M1A",
        "outputId": "1f3f7adc-8dd6-42d0-ec3f-90c403f7d060"
      },
      "source": [
        "# Multilevel Inheritance\n",
        "\n",
        "class Music:\n",
        "  song=\"Music class\"\n",
        "\n",
        "class Movie(Music):\n",
        "  film=\"film class\"\n",
        "\n",
        "\n",
        "class Bollywood(Movie):\n",
        "  def __init__(self):\n",
        "    self.bolly=\"bollywood class\"\n",
        "    print(\"the bollywood is\",self.bolly)\n",
        "    print(\"the music is {} and the movie is {}\".format(self.song,self.film)) # Printing the output using format method\n",
        "\n",
        "b=Bollywood()\n"
      ],
      "execution_count": null,
      "outputs": [
        {
          "output_type": "stream",
          "text": [
            "the bollywood is bollywood class\n",
            "the music is Music class and the movie is film class\n"
          ],
          "name": "stdout"
        }
      ]
    },
    {
      "cell_type": "code",
      "metadata": {
        "colab": {
          "base_uri": "https://localhost:8080/"
        },
        "id": "eD2Aalu_BMUy",
        "outputId": "97820a02-4fe3-4e1b-8035-fb0bc44eaa5a"
      },
      "source": [
        "# Access Specifiers\n",
        "\n",
        "# membername= public    _membername=protected              __membername=public\n",
        "\n",
        "\n",
        "class Akshada:\n",
        "\n",
        "  name=\"Akshada\"\n",
        "  _degree=\"BE\"\n",
        "  __age=22\n",
        "\n",
        "\n",
        "\n",
        "\n",
        "class Student(Akshada):\n",
        "  def __init__(self):\n",
        "    print(\"my protected variable is\",ak._degree)\n",
        "\n",
        "ak=Akshada()\n",
        "\n",
        "print(\"my public variable is\",ak.name)\n",
        "\n",
        "ss=Student()\n",
        "\n",
        "print(\"my protected variable is\",ss._degree)\n",
        "\n",
        "print(\"private:\",ak._Akshada__age) # note syntax to call private members\n"
      ],
      "execution_count": null,
      "outputs": [
        {
          "output_type": "stream",
          "text": [
            "my public variable is Akshada\n",
            "my protected variable is BE\n",
            "my protected variable is BE\n",
            "private: 22\n"
          ],
          "name": "stdout"
        }
      ]
    },
    {
      "cell_type": "code",
      "metadata": {
        "colab": {
          "base_uri": "https://localhost:8080/"
        },
        "id": "FVRPRLRoD3j2",
        "outputId": "aad0206d-7212-4764-b447-1b8d8d16db64"
      },
      "source": [
        "# Overriding & Super Method\n",
        "\n",
        "class Employee:\n",
        "  def setnowhrs(self):\n",
        "    self.hrs=45\n",
        "\n",
        "  def disp(self):\n",
        "    print(self.hrs)\n",
        "\n",
        "class Trainee(Employee):\n",
        "  def setnowhrs(self):\n",
        "    hrs=55\n",
        "  \n",
        "  def res(self):\n",
        "    super().setnowhrs()  # here we have used super to call base class data members\n",
        "\n",
        "emp=Employee()\n",
        "emp.setnowhrs()\n",
        "emp.disp()\n",
        "tr=Trainee()\n",
        "tr.setnowhrs()\n",
        "tr.res()\n",
        "\n",
        "\n",
        "\n"
      ],
      "execution_count": 12,
      "outputs": [
        {
          "output_type": "stream",
          "text": [
            "45\n"
          ],
          "name": "stdout"
        }
      ]
    },
    {
      "cell_type": "code",
      "metadata": {
        "id": "XHAXSV0sI8fZ",
        "colab": {
          "base_uri": "https://localhost:8080/"
        },
        "outputId": "6066859e-bda0-48ad-c8f2-a519bb335f39"
      },
      "source": [
        "# Diamond in python\n",
        "\n",
        "class A:\n",
        "  pass\n",
        "  \n",
        "class B(A):\n",
        "  pass\n",
        "  \n",
        "class C(A):\n",
        "  def method(self):\n",
        "    print(\"I m from class A\")\n",
        "  pass\n",
        "  \n",
        "class D(C,B):\n",
        "  pass\n",
        "\n",
        "d=D()\n",
        "d.method()"
      ],
      "execution_count": 8,
      "outputs": [
        {
          "output_type": "stream",
          "text": [
            "I m from class A\n"
          ],
          "name": "stdout"
        }
      ]
    },
    {
      "cell_type": "code",
      "metadata": {
        "colab": {
          "base_uri": "https://localhost:8080/"
        },
        "id": "BPQZjtVbMjSM",
        "outputId": "f6165bac-f3db-444b-a6bf-3e5aa717c597"
      },
      "source": [
        "# overloading of operator \n",
        "class Square:\n",
        "  def __init__(self,side):\n",
        "    self.side=side\n",
        "\n",
        "  def __add__(squareone,squaretwo):\n",
        "    return((4*squareone.side)+(4*squaretwo.side))\n",
        "\n",
        "squareone=Square(5)\n",
        "squaretwo=Square(10)\n",
        "print(squareone+squaretwo)\n"
      ],
      "execution_count": 14,
      "outputs": [
        {
          "output_type": "stream",
          "text": [
            "60\n"
          ],
          "name": "stdout"
        }
      ]
    },
    {
      "cell_type": "code",
      "metadata": {
        "colab": {
          "base_uri": "https://localhost:8080/"
        },
        "id": "RT1jaE-0SmyY",
        "outputId": "cd76b09a-bf64-4da3-ad4e-1385de9f3590"
      },
      "source": [
        "# Abstract base class\n",
        "\n",
        "from abc import ABCMeta,abstractmethod\n",
        "\n",
        "class Shape(metaclass=ABCMeta):\n",
        "  @abstractmethod\n",
        "  def area(self):\n",
        "    return 0\n",
        "\n",
        "class Square(Shape):\n",
        "  side=4\n",
        "  def area(self):\n",
        "    print(\"area of square is\",self.side*self.side)\n",
        "\n",
        "class Rectangle(Shape):\n",
        "  w=4\n",
        "  h=2\n",
        "  def area(self):\n",
        "    print(\"area of square is\",self.w*self.h)\n",
        "\n",
        "\n",
        "ss=Square()\n",
        "rr=Rectangle()\n",
        "ss.area()\n",
        "rr.area()\n",
        "\n"
      ],
      "execution_count": 16,
      "outputs": [
        {
          "output_type": "stream",
          "text": [
            "area of square is 16\n",
            "area of square is 8\n"
          ],
          "name": "stdout"
        }
      ]
    },
    {
      "cell_type": "code",
      "metadata": {
        "colab": {
          "base_uri": "https://localhost:8080/"
        },
        "id": "_oKq7Ku5WbX1",
        "outputId": "c0500435-3e33-4a88-a181-81cdfeda29fc"
      },
      "source": [
        "# Project On Simulating Banking Systems\n",
        "\n",
        "from abc import ABCMeta, abstractmethod\n",
        "from random import randint\n",
        "\n",
        "class Account(metaclass = ABCMeta):\n",
        "    @abstractmethod\n",
        "    def createAccount():\n",
        "        return 0\n",
        "    @abstractmethod\n",
        "    def authenticate():\n",
        "        return 0\n",
        "    @abstractmethod\n",
        "    def withdraw():\n",
        "        return 0\n",
        "    @abstractmethod\n",
        "    def deposit():\n",
        "        return 0\n",
        "    @abstractmethod\n",
        "    def displayBalance():\n",
        "        return 0\n",
        "\n",
        "\n",
        "class SavingsAccount(Account):\n",
        "    def __init__(self):\n",
        "        # [key][0] => name ; [key][1] => balance\n",
        "        self.savingsAccounts = {}\n",
        "    def createAccount(self, name, initialDeposit):\n",
        "        print()\n",
        "        self.accountNumber = randint(10000, 99999)\n",
        "        self.savingsAccounts[self.accountNumber] = [name, initialDeposit]\n",
        "        print(\"Account creation has been successful. Your account number is \", self.accountNumber)\n",
        "        print()\n",
        "\n",
        "    def authenticate(self, name, accountNumber):\n",
        "        print()\n",
        "        if accountNumber in self.savingsAccounts.keys():\n",
        "            if self.savingsAccounts[accountNumber][0] == name:\n",
        "                print(\"Authentication Successful\")\n",
        "                self.accountNumber = accountNumber\n",
        "                print()\n",
        "                return True\n",
        "            else:\n",
        "                print(\"Authentication Failed\")\n",
        "                print()\n",
        "                return False\n",
        "        else:\n",
        "            print(\"Authentication Failed\")\n",
        "            print()\n",
        "            return False\n",
        "\n",
        "    def withdraw(self, withdrawalAmount):\n",
        "        print()\n",
        "        if withdrawalAmount > self.savingsAccounts[self.accountNumber][1]:\n",
        "            print(\"Insufficient balance\")\n",
        "        else:\n",
        "            self.savingsAccounts[self.accountNumber][1] -= withdrawalAmount\n",
        "            print(\"Withdrawal was successful.\")\n",
        "            self.displayBalance()\n",
        "        print()\n",
        "\n",
        "    def deposit(self, depositAmount):\n",
        "        print()\n",
        "        self.savingsAccounts[self.accountNumber][1] += depositAmount\n",
        "        print(\"Deposit was successful.\")\n",
        "        self.displayBalance()\n",
        "        print()\n",
        "\n",
        "    def displayBalance(self):\n",
        "        print(\"Avaialble balance: \",self.savingsAccounts[self.accountNumber][1])\n",
        "\n",
        "savingsAccount = SavingsAccount()\n",
        "while True:\n",
        "    print()\n",
        "    print(\"Enter 1 to create a new account\")\n",
        "    print(\"Enter 2 to access an existing account\")\n",
        "    print(\"Enter 3 to exit\")\n",
        "    userChoice = int(input())\n",
        "    print()\n",
        "    if userChoice is 1:\n",
        "        print()\n",
        "        print(\"Enter your name: \")\n",
        "        name = input()\n",
        "        print(\"Enter the initial deposit: \")\n",
        "        deposit = int(input())\n",
        "        savingsAccount.createAccount(name, deposit)\n",
        "        print()\n",
        "    elif userChoice is 2:\n",
        "        print()\n",
        "        print(\"Enter your name: \")\n",
        "        name = input()\n",
        "        print(\"Enter your account number: \")\n",
        "        accountNumber = int(input())\n",
        "        authenticationStatus = savingsAccount.authenticate(name, accountNumber)\n",
        "        print()\n",
        "        if authenticationStatus is True:\n",
        "            while True:\n",
        "                print()\n",
        "                print(\"Enter 1 to withdraw\")\n",
        "                print(\"Enter 2 to deposit\")\n",
        "                print(\"Enter 3 to display avialable balance\")\n",
        "                print(\"Enter 4 to go back to the previous menu\")\n",
        "                userChoice = int(input())\n",
        "                print()\n",
        "                if userChoice is 1:\n",
        "                    print()\n",
        "                    print(\"Enter a withdrawal amount\")\n",
        "                    withdrawalAmount = int(input())\n",
        "                    savingsAccount.withdraw(withdrawalAmount)\n",
        "                    print()\n",
        "                elif userChoice is 2:\n",
        "                    print()\n",
        "                    print(\"Enter an amount to be deposited\")\n",
        "                    depositAmount = int(input())\n",
        "                    savingsAccount.deposit(depositAmount)\n",
        "                    print()\n",
        "                elif userChoice is 3:\n",
        "                    print()\n",
        "                    savingsAccount.displayBalance()\n",
        "                    print()\n",
        "                elif userChoice is 4:\n",
        "                    break\n",
        "    elif userChoice is 3:\n",
        "        quit()\n"
      ],
      "execution_count": null,
      "outputs": [
        {
          "output_type": "stream",
          "text": [
            "\n",
            "Enter 1 to create a new account\n",
            "Enter 2 to access an existing account\n",
            "Enter 3 to exit\n",
            "1\n",
            "\n",
            "\n",
            "Enter your name: \n",
            "akshada\n",
            "Enter the initial deposit: \n",
            "200\n",
            "\n",
            "Account creation has been successful. Your account number is  80588\n",
            "\n",
            "\n",
            "\n",
            "Enter 1 to create a new account\n",
            "Enter 2 to access an existing account\n",
            "Enter 3 to exit\n",
            "2\n",
            "\n",
            "\n",
            "Enter your name: \n",
            "akshada\n",
            "Enter your account number: \n",
            "80588\n",
            "\n",
            "Authentication Successful\n",
            "\n",
            "\n",
            "\n",
            "Enter 1 to withdraw\n",
            "Enter 2 to deposit\n",
            "Enter 3 to display avialable balance\n",
            "Enter 4 to go back to the previous menu\n",
            "1\n",
            "\n",
            "\n",
            "Enter a withdrawal amount\n",
            "10\n",
            "\n",
            "Withdrawal was successful.\n",
            "Avaialble balance:  190\n",
            "\n",
            "\n",
            "\n",
            "Enter 1 to withdraw\n",
            "Enter 2 to deposit\n",
            "Enter 3 to display avialable balance\n",
            "Enter 4 to go back to the previous menu\n",
            "2\n",
            "\n",
            "\n",
            "Enter an amount to be deposited\n",
            "10\n",
            "\n",
            "Deposit was successful.\n",
            "Avaialble balance:  200\n",
            "\n",
            "\n",
            "\n",
            "Enter 1 to withdraw\n",
            "Enter 2 to deposit\n",
            "Enter 3 to display avialable balance\n",
            "Enter 4 to go back to the previous menu\n",
            "3\n",
            "\n",
            "\n",
            "Avaialble balance:  200\n",
            "\n",
            "\n",
            "Enter 1 to withdraw\n",
            "Enter 2 to deposit\n",
            "Enter 3 to display avialable balance\n",
            "Enter 4 to go back to the previous menu\n",
            "4\n",
            "\n",
            "\n",
            "Enter 1 to create a new account\n",
            "Enter 2 to access an existing account\n",
            "Enter 3 to exit\n",
            "3\n",
            "\n",
            "\n",
            "Enter 1 to create a new account\n",
            "Enter 2 to access an existing account\n",
            "Enter 3 to exit\n"
          ],
          "name": "stdout"
        }
      ]
    },
    {
      "cell_type": "code",
      "metadata": {
        "id": "PXGQnYOlbbZO"
      },
      "source": [
        ""
      ],
      "execution_count": null,
      "outputs": []
    }
  ]
}